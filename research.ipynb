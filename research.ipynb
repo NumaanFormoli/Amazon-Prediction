{
 "cells": [
  {
   "cell_type": "code",
   "execution_count": 34,
   "metadata": {},
   "outputs": [],
   "source": [
    "import os\n",
    "import gzip\n",
    "import json\n",
    "import pandas as pd\n",
    "import collections"
   ]
  },
  {
   "cell_type": "code",
   "execution_count": 2,
   "metadata": {},
   "outputs": [],
   "source": [
    "# Define a “pretty print” function pprint for dict objects and dataframes.\n",
    "pprint = lambda x: print(json.dumps(x, indent=2)) if isinstance(x, dict) else display(x)"
   ]
  },
  {
   "cell_type": "markdown",
   "metadata": {},
   "source": [
    "## Loading in Data"
   ]
  },
  {
   "cell_type": "code",
   "execution_count": 3,
   "metadata": {},
   "outputs": [],
   "source": [
    "reviews = []\n",
    "items = []"
   ]
  },
  {
   "cell_type": "code",
   "execution_count": 4,
   "metadata": {},
   "outputs": [],
   "source": [
    "file = \"data/All_Beauty.jsonl.gz\"\n",
    "\n",
    "with gzip.open(file, 'rt') as fp:\n",
    "    for line in fp:\n",
    "        reviews.append(json.loads(line.strip()))\n"
   ]
  },
  {
   "cell_type": "code",
   "execution_count": 5,
   "metadata": {},
   "outputs": [],
   "source": [
    "file = \"data/meta_All_Beauty.jsonl.gz\"\n",
    "\n",
    "with gzip.open(file, 'rt') as fp:\n",
    "    for line in fp:\n",
    "        items.append(json.loads(line.strip()))"
   ]
  },
  {
   "cell_type": "markdown",
   "metadata": {},
   "source": [
    "## Exploratory Analysis"
   ]
  },
  {
   "cell_type": "code",
   "execution_count": 9,
   "metadata": {},
   "outputs": [],
   "source": [
    "reviews_df = pd.read_json(\"data/All_Beauty.jsonl.gz\", lines=True, compression='gzip')"
   ]
  },
  {
   "cell_type": "code",
   "execution_count": 12,
   "metadata": {},
   "outputs": [],
   "source": [
    "items_df = pd.read_json(\"data/meta_All_Beauty.jsonl.gz\", lines=True, compression='gzip')"
   ]
  },
  {
   "cell_type": "markdown",
   "metadata": {},
   "source": [
    "#### Display basic summary stats of the data"
   ]
  },
  {
   "cell_type": "code",
   "execution_count": null,
   "metadata": {},
   "outputs": [
    {
     "name": "stdout",
     "output_type": "stream",
     "text": [
      "############################## DATA INFO ############################## \n",
      "<class 'pandas.core.frame.DataFrame'>\n",
      "RangeIndex: 701528 entries, 0 to 701527\n",
      "Data columns (total 10 columns):\n",
      " #   Column             Non-Null Count   Dtype         \n",
      "---  ------             --------------   -----         \n",
      " 0   rating             701528 non-null  int64         \n",
      " 1   title              701528 non-null  object        \n",
      " 2   text               701528 non-null  object        \n",
      " 3   images             701528 non-null  object        \n",
      " 4   asin               701528 non-null  object        \n",
      " 5   parent_asin        701528 non-null  object        \n",
      " 6   user_id            701528 non-null  object        \n",
      " 7   timestamp          701528 non-null  datetime64[ns]\n",
      " 8   helpful_vote       701528 non-null  int64         \n",
      " 9   verified_purchase  701528 non-null  bool          \n",
      "dtypes: bool(1), datetime64[ns](1), int64(2), object(6)\n",
      "memory usage: 48.8+ MB\n",
      "None\n",
      "############################## DATA DESCRIBE ############################## \n",
      "              rating                      timestamp   helpful_vote\n",
      "count  701528.000000                         701528  701528.000000\n",
      "mean        3.960245  2019-04-09 03:31:48.115045888       0.923588\n",
      "min         1.000000            2000-11-01 04:24:18       0.000000\n",
      "25%         3.000000  2017-08-01 19:39:25.777499904       0.000000\n",
      "50%         5.000000  2019-10-20 18:11:28.616499968       0.000000\n",
      "75%         5.000000  2021-03-02 01:05:05.557999872       1.000000\n",
      "max         5.000000     2023-09-09 00:39:36.666000     646.000000\n",
      "std         1.494452                            NaN       5.471391\n",
      "############################## DATA HEAD ############################## \n",
      "   rating                                      title  \\\n",
      "0       5  Such a lovely scent but not overpowering.   \n",
      "1       4     Works great but smells a little weird.   \n",
      "2       5                                       Yes!   \n",
      "3       1                          Synthetic feeling   \n",
      "4       5                                         A+   \n",
      "\n",
      "                                                text images        asin  \\\n",
      "0  This spray is really nice. It smells really go...     []  B00YQ6X8EO   \n",
      "1  This product does what I need it to do, I just...     []  B081TJ8YS3   \n",
      "2                          Smells good, feels great!     []  B07PNNCSP9   \n",
      "3                                     Felt synthetic     []  B09JS339BZ   \n",
      "4                                            Love it     []  B08BZ63GMJ   \n",
      "\n",
      "  parent_asin                       user_id               timestamp  \\\n",
      "0  B00YQ6X8EO  AGKHLEW2SOWHNMFQIJGBECAF7INQ 2020-05-05 14:08:48.923   \n",
      "1  B081TJ8YS3  AGKHLEW2SOWHNMFQIJGBECAF7INQ 2020-05-04 18:10:55.070   \n",
      "2  B097R46CSY  AE74DYR3QUGVPZJ3P7RFWBGIX7XQ 2020-05-16 21:41:06.052   \n",
      "3  B09JS339BZ  AFQLNQNQYFWQZPJQZS6V3NZU4QBQ 2022-01-28 18:13:50.220   \n",
      "4  B08BZ63GMJ  AFQLNQNQYFWQZPJQZS6V3NZU4QBQ 2020-12-30 10:02:43.534   \n",
      "\n",
      "   helpful_vote  verified_purchase  \n",
      "0             0               True  \n",
      "1             1               True  \n",
      "2             2               True  \n",
      "3             0               True  \n",
      "4             0               True  \n",
      "############################## DATA SHAPE ############################## \n",
      "(701528, 10)\n"
     ]
    }
   ],
   "source": [
    "# reviews summary stats\n",
    "print(\"############################## DATA INFO ############################## \")\n",
    "print(reviews_df.info())      # DataFrame info\n",
    "\n",
    "print(\"############################## DATA DESCRIBE ############################## \")\n",
    "print(reviews_df.describe())  # Descriptive statistics\n",
    "\n",
    "print(\"############################## DATA HEAD ############################## \")\n",
    "print(reviews_df.head())      # First 5 rows\n",
    "\n",
    "print(\"############################## DATA SHAPE ############################## \")\n",
    "print(reviews_df.shape)       # Shape of DataFrame\n",
    "\n",
    "# items summary stats\n",
    "print(\"############################## DATA INFO ############################## \")\n",
    "print(items_df.info())        # DataFrame info\n",
    "\n",
    "print(\"############################## DATA DESCRIBE ############################## \")\n",
    "print(items_df.describe())    # Descriptive statistics\n",
    "\n",
    "print(\"############################## DATA HEAD ############################## \")\n",
    "print(items_df.head())        # First 5 rows\n",
    "\n",
    "print(\"############################## DATA SHAPE ############################## \")\n",
    "print(items_df.shape)         # Shape of DataFrame"
   ]
  },
  {
   "cell_type": "markdown",
   "metadata": {},
   "source": [
    "## Pre-Processing Dataset"
   ]
  },
  {
   "cell_type": "code",
   "execution_count": 27,
   "metadata": {},
   "outputs": [],
   "source": [
    "# only keep verified purchases\n",
    "reviews = [row for row in reviews if row['verified_purchase'] == True]"
   ]
  },
  {
   "cell_type": "code",
   "execution_count": null,
   "metadata": {},
   "outputs": [
    {
     "name": "stdout",
     "output_type": "stream",
     "text": [
      "######## NaNs ######## \n",
      "Items: \n",
      "main_category           0\n",
      "title                   0\n",
      "average_rating          0\n",
      "rating_number           0\n",
      "features                0\n",
      "description             0\n",
      "price               94886\n",
      "images                  0\n",
      "videos                  0\n",
      "store               11331\n",
      "categories              0\n",
      "details                 0\n",
      "parent_asin             0\n",
      "bought_together    112590\n",
      "dtype: int64\n",
      "\n",
      "Reviews: \n",
      "rating               0\n",
      "title                0\n",
      "text                 0\n",
      "images               0\n",
      "asin                 0\n",
      "parent_asin          0\n",
      "user_id              0\n",
      "timestamp            0\n",
      "helpful_vote         0\n",
      "verified_purchase    0\n",
      "dtype: int64\n",
      "########Duplicates ########\n",
      "7276\n"
     ]
    }
   ],
   "source": [
    "print(\"######## NaNs ######## \")\n",
    "print(\"Items: \")\n",
    "print(items_df.isna().sum())\n",
    "print(\"\\nReviews: \")\n",
    "print(reviews_df.isna().sum())\n",
    "\n",
    "print(\"######## Duplicates ########\")\n",
    "print(reviews_df.duplicated(subset=['asin', 'user_id', 'timestamp']).sum())"
   ]
  },
  {
   "cell_type": "markdown",
   "metadata": {},
   "source": [
    "#### K-core Filtering (k=5)\n",
    "- Retain users with ≥5 reviews and items with ≥5 reviews.\n",
    "- Remove duplicate reviews, keeping the earliest for each `{userID, parent_asin}`."
   ]
  },
  {
   "cell_type": "code",
   "execution_count": null,
   "metadata": {},
   "outputs": [],
   "source": [
    "# Helper Functions\n",
    "\n",
    "def load_ratings(rev):\n",
    "    inters = []\n",
    "    for review in rev:\n",
    "        item, user, rating, time = review['parent_asin'], review['user_id'], review['rating'], review['timestamp']\n",
    "        inters.append((user, item, float(rating), int(time)))\n",
    "    return inters\n",
    "\n",
    "def get_user2count(inters):\n",
    "    user2count = collections.defaultdict(int)\n",
    "    for unit in inters:\n",
    "        user2count[unit[0]] += 1\n",
    "    return user2count\n",
    "\n",
    "\n",
    "def get_item2count(inters):\n",
    "    item2count = collections.defaultdict(int)\n",
    "    for unit in inters:\n",
    "        item2count[unit[1]] += 1\n",
    "    return item2count\n",
    "\n",
    "\n",
    "def generate_candidates(unit2count, threshold):\n",
    "    cans = set()\n",
    "    for unit, count in unit2count.items():\n",
    "        if count >= threshold:\n",
    "            cans.add(unit)\n",
    "    return cans, len(unit2count) - len(cans)"
   ]
  },
  {
   "cell_type": "code",
   "execution_count": 47,
   "metadata": {},
   "outputs": [],
   "source": [
    "# Make the interactions in order and remove duplicate reviews\n",
    "\n",
    "def make_inters_in_order(inters):\n",
    "    user2inters, new_inters = collections.defaultdict(list), []\n",
    "    for inter in inters:\n",
    "        user, item, rating, timestamp = inter\n",
    "        user2inters[user].append((user, item, rating, timestamp))\n",
    "    for user in user2inters:\n",
    "        user_inters = user2inters[user]\n",
    "        user_inters.sort(key=lambda d: d[3])\n",
    "        his_items = set()\n",
    "        for inter in user_inters:\n",
    "            user, item, rating, timestamp = inter\n",
    "            if item in his_items:\n",
    "                continue\n",
    "            his_items.add(item)\n",
    "            new_inters.append(inter)\n",
    "    return new_inters\n",
    "\n",
    "# filter by k-core (5 in this case)\n",
    "def filter_inters(inters, user_k_core_threshold=0, item_k_core_threshold=0):\n",
    "    new_inters = []\n",
    "    # filter by k-core\n",
    "    if user_k_core_threshold or item_k_core_threshold:\n",
    "        print('\\nFiltering by k-core:')\n",
    "        idx = 0\n",
    "        user2count = get_user2count(inters)\n",
    "        item2count = get_item2count(inters)\n",
    "\n",
    "        while True:\n",
    "            new_user2count = collections.defaultdict(int)\n",
    "            new_item2count = collections.defaultdict(int)\n",
    "            users, n_filtered_users = generate_candidates(\n",
    "                user2count, user_k_core_threshold)\n",
    "            items, n_filtered_items = generate_candidates(\n",
    "                item2count, item_k_core_threshold)\n",
    "            if n_filtered_users == 0 and n_filtered_items == 0:\n",
    "                break\n",
    "            for unit in inters:\n",
    "                if unit[0] in users and unit[1] in items:\n",
    "                    new_inters.append(unit)\n",
    "                    new_user2count[unit[0]] += 1\n",
    "                    new_item2count[unit[1]] += 1\n",
    "            idx += 1\n",
    "            inters, new_inters = new_inters, []\n",
    "            user2count, item2count = new_user2count, new_item2count\n",
    "            print('    Epoch %d The number of inters: %d, users: %d, items: %d'\n",
    "                    % (idx, len(inters), len(user2count), len(item2count)))\n",
    "    return inters\n"
   ]
  },
  {
   "cell_type": "code",
   "execution_count": 48,
   "metadata": {},
   "outputs": [],
   "source": [
    "# Preprocessing step\n",
    "\n",
    "def preprocess_rating(inters):\n",
    "    print('Process rating data: ')\n",
    "    print(' Dataset: reviews',)\n",
    "\n",
    "    # load ratings\n",
    "    rating_inters = load_ratings(inters)\n",
    "\n",
    "\n",
    "    # Sort and remove repeated reviews\n",
    "    rating_inters = make_inters_in_order(rating_inters)\n",
    "\n",
    "    # K-core filtering;\n",
    "    print('The number of raw inters: ', len(rating_inters))\n",
    "    kcore_rating_inters = filter_inters(rating_inters,\n",
    "                                        user_k_core_threshold=5,\n",
    "                                        item_k_core_threshold=5)\n",
    "\n",
    "    # return: list of (user_ID, item_ID, rating, timestamp)\n",
    "    return kcore_rating_inters, rating_inters"
   ]
  },
  {
   "cell_type": "code",
   "execution_count": 49,
   "metadata": {},
   "outputs": [
    {
     "name": "stdout",
     "output_type": "stream",
     "text": [
      "Process rating data: \n",
      " Dataset: reviews\n"
     ]
    },
    {
     "ename": "KeyError",
     "evalue": "'sortTimestamp'",
     "output_type": "error",
     "traceback": [
      "\u001b[0;31m---------------------------------------------------------------------------\u001b[0m",
      "\u001b[0;31mKeyError\u001b[0m                                  Traceback (most recent call last)",
      "Cell \u001b[0;32mIn[49], line 1\u001b[0m\n\u001b[0;32m----> 1\u001b[0m preprocessed_inters,_ \u001b[38;5;241m=\u001b[39m \u001b[43mpreprocess_rating\u001b[49m\u001b[43m(\u001b[49m\u001b[43mreviews\u001b[49m\u001b[43m)\u001b[49m\n",
      "Cell \u001b[0;32mIn[48], line 8\u001b[0m, in \u001b[0;36mpreprocess_rating\u001b[0;34m(inters)\u001b[0m\n\u001b[1;32m      5\u001b[0m \u001b[38;5;28mprint\u001b[39m(\u001b[38;5;124m'\u001b[39m\u001b[38;5;124m Dataset: reviews\u001b[39m\u001b[38;5;124m'\u001b[39m,)\n\u001b[1;32m      7\u001b[0m \u001b[38;5;66;03m# load ratings\u001b[39;00m\n\u001b[0;32m----> 8\u001b[0m rating_inters \u001b[38;5;241m=\u001b[39m \u001b[43mload_ratings\u001b[49m\u001b[43m(\u001b[49m\u001b[43minters\u001b[49m\u001b[43m)\u001b[49m\n\u001b[1;32m     11\u001b[0m \u001b[38;5;66;03m# Sort and remove repeated reviews\u001b[39;00m\n\u001b[1;32m     12\u001b[0m rating_inters \u001b[38;5;241m=\u001b[39m make_inters_in_order(rating_inters)\n",
      "Cell \u001b[0;32mIn[46], line 6\u001b[0m, in \u001b[0;36mload_ratings\u001b[0;34m(rev)\u001b[0m\n\u001b[1;32m      4\u001b[0m inters \u001b[38;5;241m=\u001b[39m []\n\u001b[1;32m      5\u001b[0m \u001b[38;5;28;01mfor\u001b[39;00m review \u001b[38;5;129;01min\u001b[39;00m rev:\n\u001b[0;32m----> 6\u001b[0m     item, user, rating, time \u001b[38;5;241m=\u001b[39m review[\u001b[38;5;124m'\u001b[39m\u001b[38;5;124mparent_asin\u001b[39m\u001b[38;5;124m'\u001b[39m], review[\u001b[38;5;124m'\u001b[39m\u001b[38;5;124muser_id\u001b[39m\u001b[38;5;124m'\u001b[39m], review[\u001b[38;5;124m'\u001b[39m\u001b[38;5;124mrating\u001b[39m\u001b[38;5;124m'\u001b[39m], \u001b[43mreview\u001b[49m\u001b[43m[\u001b[49m\u001b[38;5;124;43m'\u001b[39;49m\u001b[38;5;124;43msortTimestamp\u001b[39;49m\u001b[38;5;124;43m'\u001b[39;49m\u001b[43m]\u001b[49m\n\u001b[1;32m      7\u001b[0m     inters\u001b[38;5;241m.\u001b[39mappend((user, item, \u001b[38;5;28mfloat\u001b[39m(rating), \u001b[38;5;28mint\u001b[39m(time)))\n\u001b[1;32m      8\u001b[0m \u001b[38;5;28;01mreturn\u001b[39;00m inters\n",
      "\u001b[0;31mKeyError\u001b[0m: 'sortTimestamp'"
     ]
    }
   ],
   "source": [
    "preprocessed_inters,_ = preprocess_rating(reviews)"
   ]
  },
  {
   "cell_type": "markdown",
   "metadata": {},
   "source": [
    "## Purchasing Prediction\n",
    "In this project, I will develop several baseline models and iteratively improve upon them using advanced techniques discussed in class, as well as deep learning methods. These models will include Most Popular, item-based collaborative filtering, Bayesian Personalized Ranking (BPR), and a deep learning model implemented with PyTorch.\n",
    "\n"
   ]
  },
  {
   "cell_type": "markdown",
   "metadata": {},
   "source": [
    "#### Most Popular"
   ]
  },
  {
   "cell_type": "code",
   "execution_count": null,
   "metadata": {},
   "outputs": [],
   "source": [
    "# necessities (for preprocessing):\n",
    "# "
   ]
  }
 ],
 "metadata": {
  "kernelspec": {
   "display_name": "recommender",
   "language": "python",
   "name": "python3"
  },
  "language_info": {
   "codemirror_mode": {
    "name": "ipython",
    "version": 3
   },
   "file_extension": ".py",
   "mimetype": "text/x-python",
   "name": "python",
   "nbconvert_exporter": "python",
   "pygments_lexer": "ipython3",
   "version": "3.10.15"
  }
 },
 "nbformat": 4,
 "nbformat_minor": 2
}
