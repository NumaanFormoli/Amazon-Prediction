{
  "cells": [
    {
      "cell_type": "code",
      "execution_count": 5,
      "metadata": {
        "id": "HacszQO-fNCZ"
      },
      "outputs": [],
      "source": [
        "import os\n",
        "import gzip\n",
        "import json\n",
        "import pandas as pd\n",
        "import collections\n",
        "import datasets\n",
        "import matplotlib.pyplot as plt\n",
        "datasets.logging.set_verbosity_error()\n",
        "from datasets import load_dataset\n",
        "from tqdm import tqdm\n",
        "tqdm.pandas()"
      ]
    },
    {
      "cell_type": "code",
      "execution_count": 6,
      "metadata": {},
      "outputs": [],
      "source": [
        "# Define a “pretty print” function pprint for dict objects and dataframes.\n",
        "pprint = lambda x: print(json.dumps(x, indent=2)) if isinstance(x, dict) else display(x)"
      ]
    },
    {
      "cell_type": "markdown",
      "metadata": {
        "id": "6J3DJxEsgb19"
      },
      "source": [
        "# Loading Data"
      ]
    },
    {
      "cell_type": "code",
      "execution_count": 7,
      "metadata": {
        "id": "sxZcy15xgdOp"
      },
      "outputs": [],
      "source": [
        "reviews = []\n",
        "items = []"
      ]
    },
    {
      "cell_type": "code",
      "execution_count": 8,
      "metadata": {
        "id": "x21BUaAwgmuw"
      },
      "outputs": [],
      "source": [
        "file = \"data/Software.jsonl.gz\"\n",
        "\n",
        "with gzip.open(file, 'rt') as fp:\n",
        "    for line in fp:\n",
        "        reviews.append(json.loads(line.strip()))\n"
      ]
    },
    {
      "cell_type": "code",
      "execution_count": 9,
      "metadata": {},
      "outputs": [],
      "source": [
        "file = \"data/meta_Software.jsonl.gz\"\n",
        "\n",
        "with gzip.open(file, 'rt') as fp:\n",
        "    for line in fp:\n",
        "        items.append(json.loads(line.strip()))"
      ]
    },
    {
      "cell_type": "code",
      "execution_count": 10,
      "metadata": {
        "id": "mBymxISrg0EY"
      },
      "outputs": [],
      "source": [
        "reviews_df = pd.read_json(\"data/Software.jsonl.gz\", lines=True, compression='gzip')"
      ]
    },
    {
      "cell_type": "code",
      "execution_count": 11,
      "metadata": {
        "id": "5igS_jXvh_4s"
      },
      "outputs": [],
      "source": [
        "items_df = pd.read_json(\"data/meta_Software.jsonl.gz\", lines=True, compression='gzip')"
      ]
    },
    {
      "cell_type": "markdown",
      "metadata": {},
      "source": [
        "# Exploratory Data Analysis"
      ]
    },
    {
      "cell_type": "markdown",
      "metadata": {
        "id": "qWdMzqYmh6-D"
      },
      "source": [
        "### Goal: Predict whether a user has bought an item"
      ]
    },
    {
      "cell_type": "code",
      "execution_count": 12,
      "metadata": {
        "colab": {
          "base_uri": "https://localhost:8080/",
          "height": 293
        },
        "id": "Nf-OgCqqh7Ii",
        "outputId": "a74e39e2-6fc6-4ddc-ce7a-8d60dc57edfc"
      },
      "outputs": [
        {
          "data": {
            "text/html": [
              "<div>\n",
              "<style scoped>\n",
              "    .dataframe tbody tr th:only-of-type {\n",
              "        vertical-align: middle;\n",
              "    }\n",
              "\n",
              "    .dataframe tbody tr th {\n",
              "        vertical-align: top;\n",
              "    }\n",
              "\n",
              "    .dataframe thead th {\n",
              "        text-align: right;\n",
              "    }\n",
              "</style>\n",
              "<table border=\"1\" class=\"dataframe\">\n",
              "  <thead>\n",
              "    <tr style=\"text-align: right;\">\n",
              "      <th></th>\n",
              "      <th>rating</th>\n",
              "      <th>title</th>\n",
              "      <th>text</th>\n",
              "      <th>images</th>\n",
              "      <th>asin</th>\n",
              "      <th>parent_asin</th>\n",
              "      <th>user_id</th>\n",
              "      <th>timestamp</th>\n",
              "      <th>helpful_vote</th>\n",
              "      <th>verified_purchase</th>\n",
              "    </tr>\n",
              "  </thead>\n",
              "  <tbody>\n",
              "    <tr>\n",
              "      <th>0</th>\n",
              "      <td>1</td>\n",
              "      <td>malware</td>\n",
              "      <td>mcaffee IS malware</td>\n",
              "      <td>[]</td>\n",
              "      <td>B07BFS3G7P</td>\n",
              "      <td>B0BQSK9QCF</td>\n",
              "      <td>AGCI7FAH4GL5FI65HYLKWTMFZ2CQ</td>\n",
              "      <td>2019-07-03 19:37:12.076</td>\n",
              "      <td>0</td>\n",
              "      <td>False</td>\n",
              "    </tr>\n",
              "    <tr>\n",
              "      <th>1</th>\n",
              "      <td>5</td>\n",
              "      <td>Lots of Fun</td>\n",
              "      <td>I love playing tapped out because it is fun to...</td>\n",
              "      <td>[]</td>\n",
              "      <td>B00CTQ6SIG</td>\n",
              "      <td>B00CTQ6SIG</td>\n",
              "      <td>AHSPLDNW5OOUK2PLH7GXLACFBZNQ</td>\n",
              "      <td>2015-02-16 20:58:56.000</td>\n",
              "      <td>0</td>\n",
              "      <td>True</td>\n",
              "    </tr>\n",
              "    <tr>\n",
              "      <th>2</th>\n",
              "      <td>5</td>\n",
              "      <td>Light Up The Dark</td>\n",
              "      <td>I love this flashlight app!  It really illumin...</td>\n",
              "      <td>[]</td>\n",
              "      <td>B0066WJLU6</td>\n",
              "      <td>B0066WJLU6</td>\n",
              "      <td>AHSPLDNW5OOUK2PLH7GXLACFBZNQ</td>\n",
              "      <td>2013-03-04 12:14:27.000</td>\n",
              "      <td>0</td>\n",
              "      <td>True</td>\n",
              "    </tr>\n",
              "    <tr>\n",
              "      <th>3</th>\n",
              "      <td>4</td>\n",
              "      <td>Fun game</td>\n",
              "      <td>One of my favorite games</td>\n",
              "      <td>[]</td>\n",
              "      <td>B00KCYMAWK</td>\n",
              "      <td>B00KCYMAWK</td>\n",
              "      <td>AH6CATODIVPVUOJEWHRSRCSKAOHA</td>\n",
              "      <td>2019-06-20 20:10:28.662</td>\n",
              "      <td>0</td>\n",
              "      <td>True</td>\n",
              "    </tr>\n",
              "    <tr>\n",
              "      <th>4</th>\n",
              "      <td>4</td>\n",
              "      <td>I am not that good at it but my kids are</td>\n",
              "      <td>Cute game. I am not that good at it but my kid...</td>\n",
              "      <td>[]</td>\n",
              "      <td>B00P1RK566</td>\n",
              "      <td>B00P1RK566</td>\n",
              "      <td>AEINY4XOINMMJCK5GZ3M6MMHBN6A</td>\n",
              "      <td>2014-12-11 00:19:56.000</td>\n",
              "      <td>0</td>\n",
              "      <td>True</td>\n",
              "    </tr>\n",
              "  </tbody>\n",
              "</table>\n",
              "</div>"
            ],
            "text/plain": [
              "   rating                                     title  \\\n",
              "0       1                                   malware   \n",
              "1       5                               Lots of Fun   \n",
              "2       5                         Light Up The Dark   \n",
              "3       4                                  Fun game   \n",
              "4       4  I am not that good at it but my kids are   \n",
              "\n",
              "                                                text images        asin  \\\n",
              "0                                 mcaffee IS malware     []  B07BFS3G7P   \n",
              "1  I love playing tapped out because it is fun to...     []  B00CTQ6SIG   \n",
              "2  I love this flashlight app!  It really illumin...     []  B0066WJLU6   \n",
              "3                           One of my favorite games     []  B00KCYMAWK   \n",
              "4  Cute game. I am not that good at it but my kid...     []  B00P1RK566   \n",
              "\n",
              "  parent_asin                       user_id               timestamp  \\\n",
              "0  B0BQSK9QCF  AGCI7FAH4GL5FI65HYLKWTMFZ2CQ 2019-07-03 19:37:12.076   \n",
              "1  B00CTQ6SIG  AHSPLDNW5OOUK2PLH7GXLACFBZNQ 2015-02-16 20:58:56.000   \n",
              "2  B0066WJLU6  AHSPLDNW5OOUK2PLH7GXLACFBZNQ 2013-03-04 12:14:27.000   \n",
              "3  B00KCYMAWK  AH6CATODIVPVUOJEWHRSRCSKAOHA 2019-06-20 20:10:28.662   \n",
              "4  B00P1RK566  AEINY4XOINMMJCK5GZ3M6MMHBN6A 2014-12-11 00:19:56.000   \n",
              "\n",
              "   helpful_vote  verified_purchase  \n",
              "0             0              False  \n",
              "1             0               True  \n",
              "2             0               True  \n",
              "3             0               True  \n",
              "4             0               True  "
            ]
          },
          "execution_count": 12,
          "metadata": {},
          "output_type": "execute_result"
        }
      ],
      "source": [
        "reviews_df.head()\n"
      ]
    },
    {
      "cell_type": "code",
      "execution_count": 13,
      "metadata": {
        "colab": {
          "base_uri": "https://localhost:8080/",
          "height": 625
        },
        "id": "2cEVtP9eh9jz",
        "outputId": "e67b0bba-75af-4a5e-ed32-7ad7ef06fcae"
      },
      "outputs": [
        {
          "data": {
            "text/html": [
              "<div>\n",
              "<style scoped>\n",
              "    .dataframe tbody tr th:only-of-type {\n",
              "        vertical-align: middle;\n",
              "    }\n",
              "\n",
              "    .dataframe tbody tr th {\n",
              "        vertical-align: top;\n",
              "    }\n",
              "\n",
              "    .dataframe thead th {\n",
              "        text-align: right;\n",
              "    }\n",
              "</style>\n",
              "<table border=\"1\" class=\"dataframe\">\n",
              "  <thead>\n",
              "    <tr style=\"text-align: right;\">\n",
              "      <th></th>\n",
              "      <th>main_category</th>\n",
              "      <th>title</th>\n",
              "      <th>average_rating</th>\n",
              "      <th>rating_number</th>\n",
              "      <th>features</th>\n",
              "      <th>description</th>\n",
              "      <th>price</th>\n",
              "      <th>images</th>\n",
              "      <th>videos</th>\n",
              "      <th>store</th>\n",
              "      <th>categories</th>\n",
              "      <th>details</th>\n",
              "      <th>parent_asin</th>\n",
              "      <th>bought_together</th>\n",
              "      <th>subtitle</th>\n",
              "      <th>author</th>\n",
              "    </tr>\n",
              "  </thead>\n",
              "  <tbody>\n",
              "    <tr>\n",
              "      <th>0</th>\n",
              "      <td>Appstore for Android</td>\n",
              "      <td>Accupressure Guide</td>\n",
              "      <td>3.6</td>\n",
              "      <td>NaN</td>\n",
              "      <td>[All the pressing point has been explained wit...</td>\n",
              "      <td>[Acupressure technique is very ancient and ver...</td>\n",
              "      <td>0.00</td>\n",
              "      <td>[{'large': 'https://m.media-amazon.com/images/...</td>\n",
              "      <td>[{'title': '', 'url': '', 'user_id': ''}]</td>\n",
              "      <td>mAppsguru</td>\n",
              "      <td>[]</td>\n",
              "      <td>{'Release Date': '2015', 'Date first listed on...</td>\n",
              "      <td>B00VRPSGEO</td>\n",
              "      <td>NaN</td>\n",
              "      <td>NaN</td>\n",
              "      <td>NaN</td>\n",
              "    </tr>\n",
              "    <tr>\n",
              "      <th>1</th>\n",
              "      <td>Appstore for Android</td>\n",
              "      <td>Ankylosaurus Fights Back - Smithsonian's Prehi...</td>\n",
              "      <td>4.0</td>\n",
              "      <td>NaN</td>\n",
              "      <td>[ENCOURAGE literacy skills with highlighted na...</td>\n",
              "      <td>[Join Ankylosaurus in this interactive book ap...</td>\n",
              "      <td>2.99</td>\n",
              "      <td>[{'large': 'https://m.media-amazon.com/images/...</td>\n",
              "      <td>[{'title': '', 'url': '', 'user_id': ''}]</td>\n",
              "      <td>Oceanhouse Media, Inc</td>\n",
              "      <td>[]</td>\n",
              "      <td>{'Release Date': '2014', 'Date first listed on...</td>\n",
              "      <td>B00NWQXXHQ</td>\n",
              "      <td>NaN</td>\n",
              "      <td>NaN</td>\n",
              "      <td>NaN</td>\n",
              "    </tr>\n",
              "    <tr>\n",
              "      <th>2</th>\n",
              "      <td>Appstore for Android</td>\n",
              "      <td>Mahjong 2015</td>\n",
              "      <td>3.1</td>\n",
              "      <td>NaN</td>\n",
              "      <td>[Mahjong 2015 is a free solitaire matching gam...</td>\n",
              "      <td>[Mahjong 2015 is a free solitaire matching gam...</td>\n",
              "      <td>0.00</td>\n",
              "      <td>[{'large': 'https://m.media-amazon.com/images/...</td>\n",
              "      <td>[{'title': '', 'url': '', 'user_id': ''}]</td>\n",
              "      <td>sophiathach</td>\n",
              "      <td>[]</td>\n",
              "      <td>{'Release Date': '2014', 'Date first listed on...</td>\n",
              "      <td>B00RFKP6AC</td>\n",
              "      <td>NaN</td>\n",
              "      <td>NaN</td>\n",
              "      <td>NaN</td>\n",
              "    </tr>\n",
              "    <tr>\n",
              "      <th>3</th>\n",
              "      <td>Appstore for Android</td>\n",
              "      <td>Jewels Brick Breakout</td>\n",
              "      <td>4.2</td>\n",
              "      <td>NaN</td>\n",
              "      <td>[Game Features:, - Intuitive touch controls wi...</td>\n",
              "      <td>[Jewels Brick Breakout is a glowing jewels bri...</td>\n",
              "      <td>0.00</td>\n",
              "      <td>[{'large': 'https://m.media-amazon.com/images/...</td>\n",
              "      <td>[{'title': '', 'url': '', 'user_id': ''}]</td>\n",
              "      <td>Bad Chicken</td>\n",
              "      <td>[]</td>\n",
              "      <td>{'Release Date': '2015', 'Date first listed on...</td>\n",
              "      <td>B00SP2QU0E</td>\n",
              "      <td>NaN</td>\n",
              "      <td>NaN</td>\n",
              "      <td>NaN</td>\n",
              "    </tr>\n",
              "    <tr>\n",
              "      <th>4</th>\n",
              "      <td>Appstore for Android</td>\n",
              "      <td>Traffic Police: Off-Road Cub</td>\n",
              "      <td>3.3</td>\n",
              "      <td>NaN</td>\n",
              "      <td>[In this game you will find:, - Killer police ...</td>\n",
              "      <td>[Become the best road police officer in Cube C...</td>\n",
              "      <td>0.00</td>\n",
              "      <td>[{'large': 'https://m.media-amazon.com/images/...</td>\n",
              "      <td>[{'title': '', 'url': '', 'user_id': ''}]</td>\n",
              "      <td>Dast 2 For Metro</td>\n",
              "      <td>[]</td>\n",
              "      <td>{'Release Date': '2016', 'Date first listed on...</td>\n",
              "      <td>B01DZIT64O</td>\n",
              "      <td>NaN</td>\n",
              "      <td>NaN</td>\n",
              "      <td>NaN</td>\n",
              "    </tr>\n",
              "  </tbody>\n",
              "</table>\n",
              "</div>"
            ],
            "text/plain": [
              "          main_category                                              title  \\\n",
              "0  Appstore for Android                                 Accupressure Guide   \n",
              "1  Appstore for Android  Ankylosaurus Fights Back - Smithsonian's Prehi...   \n",
              "2  Appstore for Android                                       Mahjong 2015   \n",
              "3  Appstore for Android                              Jewels Brick Breakout   \n",
              "4  Appstore for Android                       Traffic Police: Off-Road Cub   \n",
              "\n",
              "   average_rating  rating_number  \\\n",
              "0             3.6            NaN   \n",
              "1             4.0            NaN   \n",
              "2             3.1            NaN   \n",
              "3             4.2            NaN   \n",
              "4             3.3            NaN   \n",
              "\n",
              "                                            features  \\\n",
              "0  [All the pressing point has been explained wit...   \n",
              "1  [ENCOURAGE literacy skills with highlighted na...   \n",
              "2  [Mahjong 2015 is a free solitaire matching gam...   \n",
              "3  [Game Features:, - Intuitive touch controls wi...   \n",
              "4  [In this game you will find:, - Killer police ...   \n",
              "\n",
              "                                         description  price  \\\n",
              "0  [Acupressure technique is very ancient and ver...   0.00   \n",
              "1  [Join Ankylosaurus in this interactive book ap...   2.99   \n",
              "2  [Mahjong 2015 is a free solitaire matching gam...   0.00   \n",
              "3  [Jewels Brick Breakout is a glowing jewels bri...   0.00   \n",
              "4  [Become the best road police officer in Cube C...   0.00   \n",
              "\n",
              "                                              images  \\\n",
              "0  [{'large': 'https://m.media-amazon.com/images/...   \n",
              "1  [{'large': 'https://m.media-amazon.com/images/...   \n",
              "2  [{'large': 'https://m.media-amazon.com/images/...   \n",
              "3  [{'large': 'https://m.media-amazon.com/images/...   \n",
              "4  [{'large': 'https://m.media-amazon.com/images/...   \n",
              "\n",
              "                                      videos                  store  \\\n",
              "0  [{'title': '', 'url': '', 'user_id': ''}]              mAppsguru   \n",
              "1  [{'title': '', 'url': '', 'user_id': ''}]  Oceanhouse Media, Inc   \n",
              "2  [{'title': '', 'url': '', 'user_id': ''}]            sophiathach   \n",
              "3  [{'title': '', 'url': '', 'user_id': ''}]            Bad Chicken   \n",
              "4  [{'title': '', 'url': '', 'user_id': ''}]       Dast 2 For Metro   \n",
              "\n",
              "  categories                                            details parent_asin  \\\n",
              "0         []  {'Release Date': '2015', 'Date first listed on...  B00VRPSGEO   \n",
              "1         []  {'Release Date': '2014', 'Date first listed on...  B00NWQXXHQ   \n",
              "2         []  {'Release Date': '2014', 'Date first listed on...  B00RFKP6AC   \n",
              "3         []  {'Release Date': '2015', 'Date first listed on...  B00SP2QU0E   \n",
              "4         []  {'Release Date': '2016', 'Date first listed on...  B01DZIT64O   \n",
              "\n",
              "   bought_together  subtitle  author  \n",
              "0              NaN       NaN     NaN  \n",
              "1              NaN       NaN     NaN  \n",
              "2              NaN       NaN     NaN  \n",
              "3              NaN       NaN     NaN  \n",
              "4              NaN       NaN     NaN  "
            ]
          },
          "execution_count": 13,
          "metadata": {},
          "output_type": "execute_result"
        }
      ],
      "source": [
        "items_df.head()\n"
      ]
    },
    {
      "cell_type": "code",
      "execution_count": 14,
      "metadata": {
        "colab": {
          "base_uri": "https://localhost:8080/"
        },
        "id": "4tjkmjuih-zo",
        "outputId": "9e2646b5-de85-47ab-d789-48933bfabbc4"
      },
      "outputs": [
        {
          "name": "stdout",
          "output_type": "stream",
          "text": [
            "number of unique items bought: 89246\n",
            "number of all items: 89251\n",
            "percentage of items bought: 99.99439782187315%\n"
          ]
        }
      ],
      "source": [
        "Number_unique_bought = reviews_df['parent_asin'].nunique()\n",
        "Number_all_items = items_df['parent_asin'].nunique()\n",
        "print(f'number of unique items bought: {Number_unique_bought}')\n",
        "print(f'number of all items: {Number_all_items}')\n",
        "print(f'percentage of items bought: {Number_unique_bought/Number_all_items*100}%')"
      ]
    },
    {
      "cell_type": "markdown",
      "metadata": {
        "id": "8qstWQ6findA"
      },
      "source": [
        "### Let's find how much reviews each product has"
      ]
    },
    {
      "cell_type": "code",
      "execution_count": 15,
      "metadata": {
        "colab": {
          "base_uri": "https://localhost:8080/",
          "height": 508
        },
        "id": "YDuxhHr_inqh",
        "outputId": "87f7f84a-93a7-4580-e546-8b0982293d67"
      },
      "outputs": [
        {
          "data": {
            "text/plain": [
              "parent_asin\n",
              "B00FAPF5U0    50891\n",
              "B00N28818A    46940\n",
              "B00992CF6W    44324\n",
              "B005ZXWMUS    33079\n",
              "B0094BB4TW    30212\n",
              "              ...  \n",
              "B00GNDN98I        1\n",
              "B01M6BS9GL        1\n",
              "B00GNFUXD0        1\n",
              "B00GNG2GMA        1\n",
              "b017poz7y2        1\n",
              "Name: text, Length: 89246, dtype: int64"
            ]
          },
          "metadata": {},
          "output_type": "display_data"
        },
        {
          "name": "stdout",
          "output_type": "stream",
          "text": [
            "average number of reviews per item: 54.68234990923963\n"
          ]
        }
      ],
      "source": [
        "number_reviews = reviews_df.groupby('parent_asin')['text'].count().sort_values(ascending=False)\n",
        "display(number_reviews)\n",
        "average_reviews = number_reviews.mean()\n",
        "print(f'average number of reviews per item: {average_reviews}')"
      ]
    },
    {
      "cell_type": "code",
      "execution_count": 17,
      "metadata": {
        "colab": {
          "base_uri": "https://localhost:8080/",
          "height": 564
        },
        "id": "PZTQ7MDzqJUn",
        "outputId": "bc2e2909-4926-4d00-dab8-d88c139412f8"
      },
      "outputs": [
        {
          "data": {
            "image/png": "[encoded data removed]",
            "text/plain": [
              "<Figure size 1000x600 with 1 Axes>"
            ]
          },
          "metadata": {},
          "output_type": "display_data"
        }
      ],
      "source": [
        "review_counts = number_reviews.reset_index()['text'].value_counts()\n",
        "\n",
        "# Plot a histogram\n",
        "plt.figure(figsize=(10, 6))\n",
        "plt.hist(review_counts, bins=50, edgecolor='k', alpha=0.7)\n",
        "plt.title('Frequency of Number of Reviews')\n",
        "plt.xlabel('Number of Reviews')\n",
        "plt.ylabel('Frequency')\n",
        "plt.yscale('log')  # Use a logarithmic scale if there's a large disparity in counts\n",
        "plt.grid(axis='y', linestyle='--', alpha=0.7)\n",
        "plt.show()"
      ]
    },
    {
      "cell_type": "markdown",
      "metadata": {
        "id": "N5C3dEEsiqS5"
      },
      "source": [
        "### Let's find out how much users exist in the reviews dataset"
      ]
    },
    {
      "cell_type": "code",
      "execution_count": 18,
      "metadata": {
        "colab": {
          "base_uri": "https://localhost:8080/"
        },
        "id": "QAo-a81Liqb-",
        "outputId": "ee6856e7-a1b1-4e75-d212-2d228e9a0e48"
      },
      "outputs": [
        {
          "name": "stdout",
          "output_type": "stream",
          "text": [
            "number of unique users: 2589466\n",
            "average number of reviews per user: 1.8846283364987222\n"
          ]
        }
      ],
      "source": [
        "Number_users = reviews_df['user_id'].nunique()\n",
        "print(f'number of unique users: {Number_users}')\n",
        "average_reviews_per_user = reviews_df.groupby('user_id')['text'].count().mean()\n",
        "print(f'average number of reviews per user: {average_reviews_per_user}')"
      ]
    },
    {
      "cell_type": "markdown",
      "metadata": {
        "id": "NCgZSbWriv1E"
      },
      "source": [
        "note: not all reviews are verified purchases however, let's find the number of verified purchases and compare it to overall reviews"
      ]
    },
    {
      "cell_type": "code",
      "execution_count": 19,
      "metadata": {
        "colab": {
          "base_uri": "https://localhost:8080/"
        },
        "id": "Ab_lKYnbiv9B",
        "outputId": "fc14f286-4cbb-4b38-e12d-694bb7b39cf6"
      },
      "outputs": [
        {
          "name": "stdout",
          "output_type": "stream",
          "text": [
            "Number of verified purchases: 4645281\n",
            "Percentage of verified purchases: 95.1866539376306%\n"
          ]
        }
      ],
      "source": [
        "verified_purchase=reviews_df['verified_purchase'].sum()\n",
        "all_reviews = len(reviews_df)\n",
        "print(f'Number of verified purchases: {verified_purchase}')\n",
        "print(f'Percentage of verified purchases: {verified_purchase/all_reviews*100}%')"
      ]
    },
    {
      "cell_type": "markdown",
      "metadata": {
        "id": "EmROPSrbiylz"
      },
      "source": [
        "## Pre-Processing Dataset"
      ]
    },
    {
      "cell_type": "code",
      "execution_count": 20,
      "metadata": {
        "colab": {
          "base_uri": "https://localhost:8080/"
        },
        "id": "O0G-iHIwiy0V",
        "outputId": "073b0191-1d89-499a-949a-774140e69027"
      },
      "outputs": [
        {
          "name": "stdout",
          "output_type": "stream",
          "text": [
            "######## NaNs ######## \n",
            "Items: \n",
            "main_category       1769\n",
            "title                  0\n",
            "average_rating        25\n",
            "rating_number       2959\n",
            "features               0\n",
            "description            0\n",
            "price              18266\n",
            "images                 0\n",
            "videos                 0\n",
            "store                213\n",
            "categories             0\n",
            "details                0\n",
            "parent_asin            0\n",
            "bought_together    89251\n",
            "subtitle           89251\n",
            "author             89251\n",
            "dtype: int64\n",
            "\n",
            "Reviews: \n",
            "rating               0\n",
            "title                0\n",
            "text                 0\n",
            "images               0\n",
            "asin                 0\n",
            "parent_asin          0\n",
            "user_id              0\n",
            "timestamp            0\n",
            "helpful_vote         0\n",
            "verified_purchase    0\n",
            "dtype: int64\n",
            "######## Duplicates ########\n",
            "51061\n"
          ]
        }
      ],
      "source": [
        "print(\"######## NaNs ######## \")\n",
        "print(\"Items: \")\n",
        "print(items_df.isna().sum())\n",
        "print(\"\\nReviews: \")\n",
        "print(reviews_df.isna().sum())\n",
        "\n",
        "print(\"######## Duplicates ########\")\n",
        "print(reviews_df.duplicated(subset=['asin', 'user_id', 'timestamp']).sum())"
      ]
    },
    {
      "cell_type": "markdown",
      "metadata": {
        "id": "NNrOpWVwi3CS"
      },
      "source": [
        "#### K-core Filtering (k=5)\n",
        "- Retain users with ≥5 reviews and items with ≥5 reviews.\n",
        "- Remove duplicate reviews, keeping the earliest for each `{userID, parent_asin}`."
      ]
    },
    {
      "cell_type": "code",
      "execution_count": 21,
      "metadata": {
        "id": "o1KjGXFEi3Zy"
      },
      "outputs": [],
      "source": [
        "# Helper Functions\n",
        "\n",
        "def load_ratings(rev):\n",
        "    inters = []\n",
        "    for review in rev:\n",
        "        item, user, rating, time = review['parent_asin'], review['user_id'], review['rating'], review['timestamp']\n",
        "        inters.append((user, item, float(rating), int(time)))\n",
        "    return inters\n",
        "\n",
        "def get_user2count(inters):\n",
        "    user2count = collections.defaultdict(int)\n",
        "    for unit in inters:\n",
        "        user2count[unit[0]] += 1\n",
        "    return user2count\n",
        "\n",
        "\n",
        "def get_item2count(inters):\n",
        "    item2count = collections.defaultdict(int)\n",
        "    for unit in inters:\n",
        "        item2count[unit[1]] += 1\n",
        "    return item2count\n",
        "\n",
        "\n",
        "def generate_candidates(unit2count, threshold):\n",
        "    cans = set()\n",
        "    for unit, count in unit2count.items():\n",
        "        if count >= threshold:\n",
        "            cans.add(unit)\n",
        "    return cans, len(unit2count) - len(cans)"
      ]
    },
    {
      "cell_type": "code",
      "execution_count": 22,
      "metadata": {
        "id": "sYqGBZwPi4S5"
      },
      "outputs": [],
      "source": [
        "# Make the interactions in order and remove duplicate reviews\n",
        "\n",
        "def make_inters_in_order(inters):\n",
        "    user2inters, new_inters = collections.defaultdict(list), []\n",
        "    for inter in inters:\n",
        "        user, item, rating, timestamp = inter\n",
        "        user2inters[user].append((user, item, rating, timestamp))\n",
        "    for user in user2inters:\n",
        "        user_inters = user2inters[user]\n",
        "        user_inters.sort(key=lambda d: d[3])\n",
        "        his_items = set()\n",
        "        for inter in user_inters:\n",
        "            user, item, rating, timestamp = inter\n",
        "            if item in his_items:\n",
        "                continue\n",
        "            his_items.add(item)\n",
        "            new_inters.append(inter)\n",
        "    return new_inters\n",
        "\n",
        "# filter by k-core (5 in this case)\n",
        "def filter_inters(inters, user_k_core_threshold=0, item_k_core_threshold=0):\n",
        "    new_inters = []\n",
        "    # filter by k-core\n",
        "    if user_k_core_threshold or item_k_core_threshold:\n",
        "        print('\\nFiltering by k-core:')\n",
        "        idx = 0\n",
        "        user2count = get_user2count(inters)\n",
        "        item2count = get_item2count(inters)\n",
        "\n",
        "        while True:\n",
        "            new_user2count = collections.defaultdict(int)\n",
        "            new_item2count = collections.defaultdict(int)\n",
        "            users, n_filtered_users = generate_candidates(\n",
        "                user2count, user_k_core_threshold)\n",
        "            items, n_filtered_items = generate_candidates(\n",
        "                item2count, item_k_core_threshold)\n",
        "            if n_filtered_users == 0 and n_filtered_items == 0:\n",
        "                break\n",
        "            for unit in inters:\n",
        "                if unit[0] in users and unit[1] in items:\n",
        "                    new_inters.append(unit)\n",
        "                    new_user2count[unit[0]] += 1\n",
        "                    new_item2count[unit[1]] += 1\n",
        "            idx += 1\n",
        "            inters, new_inters = new_inters, []\n",
        "            user2count, item2count = new_user2count, new_item2count\n",
        "            print('    Epoch %d The number of inters: %d, users: %d, items: %d'\n",
        "                    % (idx, len(inters), len(user2count), len(item2count)))\n",
        "    return inters\n"
      ]
    },
    {
      "cell_type": "code",
      "execution_count": 23,
      "metadata": {
        "id": "nlmkcuwli5Kb"
      },
      "outputs": [],
      "source": [
        "# Preprocessing step\n",
        "\n",
        "def preprocess_rating(inters):\n",
        "    print('Process rating data: ')\n",
        "    print(' Dataset: reviews',)\n",
        "\n",
        "    # load ratings\n",
        "    rating_inters = load_ratings(inters)\n",
        "\n",
        "\n",
        "    # Sort and remove repeated reviews\n",
        "    rating_inters = make_inters_in_order(rating_inters)\n",
        "\n",
        "    # K-core filtering;\n",
        "    print('The number of raw inters: ', len(rating_inters))\n",
        "    kcore_rating_inters = filter_inters(rating_inters,\n",
        "                                        user_k_core_threshold=5,\n",
        "                                        item_k_core_threshold=5)\n",
        "\n",
        "    # return: list of (user_ID, item_ID, rating, timestamp)\n",
        "    return kcore_rating_inters, rating_inters"
      ]
    },
    {
      "cell_type": "code",
      "execution_count": 25,
      "metadata": {
        "colab": {
          "base_uri": "https://localhost:8080/",
          "height": 329
        },
        "id": "yKFeyVoni59R",
        "outputId": "389ef6ec-708b-474e-e9de-2a4b384f3335"
      },
      "outputs": [
        {
          "name": "stdout",
          "output_type": "stream",
          "text": [
            "Process rating data: \n",
            " Dataset: reviews\n",
            "The number of raw inters:  4828480\n",
            "\n",
            "Filtering by k-core:\n",
            "    Epoch 1 The number of inters: 1353435, users: 157062, items: 32850\n",
            "    Epoch 2 The number of inters: 1302721, users: 152319, items: 18486\n",
            "    Epoch 3 The number of inters: 1281240, users: 146980, items: 18143\n",
            "    Epoch 4 The number of inters: 1278612, users: 146779, items: 17654\n",
            "    Epoch 5 The number of inters: 1277242, users: 146453, items: 17635\n",
            "    Epoch 6 The number of inters: 1277020, users: 146436, items: 17596\n",
            "    Epoch 7 The number of inters: 1276876, users: 146402, items: 17594\n",
            "    Epoch 8 The number of inters: 1276864, users: 146399, items: 17594\n",
            "    Epoch 9 The number of inters: 1276852, users: 146399, items: 17591\n",
            "    Epoch 10 The number of inters: 1276840, users: 146396, items: 17591\n"
          ]
        }
      ],
      "source": [
        "inters,_ = preprocess_rating(reviews)\n"
      ]
    },
    {
      "cell_type": "code",
      "execution_count": 26,
      "metadata": {},
      "outputs": [],
      "source": [
        "# helper method\n",
        "\n",
        "def make_inters_in_order(inters):\n",
        "    user2inters, new_inters = collections.defaultdict(list), collections.defaultdict(list)\n",
        "    for inter in inters:\n",
        "        user, item, rating, timestamp = inter\n",
        "        user2inters[user].append((user, item, rating, timestamp))\n",
        "    for user in user2inters:\n",
        "        user_inters = user2inters[user]\n",
        "        user_inters.sort(key=lambda d: d[3])\n",
        "        his_items = set()\n",
        "        for inter in user_inters:\n",
        "            user, item, rating, timestamp = inter\n",
        "            if item in his_items:\n",
        "                continue\n",
        "            his_items.add(item)\n",
        "            new_inters[user].append(inter)\n",
        "    return new_inters\n"
      ]
    },
    {
      "cell_type": "code",
      "execution_count": 27,
      "metadata": {},
      "outputs": [],
      "source": [
        "def last_out_split(inters):\n",
        "    train_data = []\n",
        "    valid_data = []\n",
        "    test_data = []\n",
        "\n",
        "    # Order the inters\n",
        "    ordered_inters = make_inters_in_order(inters=inters)\n",
        "\n",
        "\n",
        "    for user in tqdm(ordered_inters, desc='Creating train/valid/test lists'):\n",
        "        cur_inter = ordered_inters[user]\n",
        "        # Add the last interaction to the test set\n",
        "        test_data.append((cur_inter[-1][0], cur_inter[-1][1], cur_inter[-1][2], cur_inter[-1][3]))\n",
        "        \n",
        "        if len(cur_inter) > 1:\n",
        "            # Add the second-to-last interaction to the validation set\n",
        "            valid_data.append((cur_inter[-2][0], cur_inter[-2][1], cur_inter[-2][2], cur_inter[-2][3]))\n",
        "        \n",
        "        if len(cur_inter) > 2:\n",
        "            # Add the remaining interactions to the training set\n",
        "            for i in range(len(cur_inter) - 2):\n",
        "                train_data.append((cur_inter[i][0], cur_inter[i][1], cur_inter[i][2], cur_inter[i][3]))\n",
        "    return train_data, valid_data, test_data\n"
      ]
    },
    {
      "cell_type": "code",
      "execution_count": 28,
      "metadata": {},
      "outputs": [
        {
          "name": "stderr",
          "output_type": "stream",
          "text": [
            "Creating train/valid/test lists: 100%|██████████| 146396/146396 [00:00<00:00, 297599.36it/s]\n"
          ]
        }
      ],
      "source": [
        "train_data, valid_data, test_data = last_out_split(inters)"
      ]
    },
    {
      "cell_type": "code",
      "execution_count": 29,
      "metadata": {},
      "outputs": [
        {
          "name": "stderr",
          "output_type": "stream",
          "text": [
            "100%|██████████| 1276840/1276840 [00:00<00:00, 1303874.63it/s]\n"
          ]
        }
      ],
      "source": [
        "user_set = set()\n",
        "item_set = set()\n",
        "purchased_set = set()\n",
        "\n",
        "# Collect from train and validation data\n",
        "for u, b, r,t in tqdm(train_data + valid_data + test_data):  # Avoid test_data\n",
        "    user_set.add(u)\n",
        "    item_set.add(b)\n",
        "    purchased_set.add((u, b, r , t, 1))  # Add observed interactions"
      ]
    },
    {
      "cell_type": "code",
      "execution_count": 30,
      "metadata": {},
      "outputs": [],
      "source": [
        "lUserSet = list(user_set)\n",
        "lpurchasedSet = list(purchased_set)"
      ]
    },
    {
      "cell_type": "code",
      "execution_count": 31,
      "metadata": {},
      "outputs": [],
      "source": [
        "from collections import defaultdict\n",
        "ratingsPerUser = defaultdict(list)\n",
        "ratingsPerItem = defaultdict(list)\n",
        "purchased_products_by_user = {}\n",
        "\n",
        "for u, b, r, _ in train_data + valid_data + test_data:\n",
        "    ratingsPerUser[u].append((b, r))  # User u has rated product b with rating r\n",
        "    ratingsPerItem[b].append((u, r))  # Product b has been rated by user u with rating r"
      ]
    },
    {
      "cell_type": "code",
      "execution_count": 33,
      "metadata": {},
      "outputs": [
        {
          "name": "stderr",
          "output_type": "stream",
          "text": [
            "100%|██████████| 1276840/1276840 [01:58<00:00, 10748.29it/s]\n"
          ]
        }
      ],
      "source": [
        "# Creating negative data\n",
        "import random\n",
        "neg_data = []\n",
        "for u,p,r,t in tqdm(train_data + test_data + valid_data):\n",
        "    user, product = u, p\n",
        "    random_product = random.choice(list(item_set))\n",
        "    # repeat process of sampling a game if user has played it\n",
        "    while random_product in ratingsPerUser[user]:\n",
        "        random_product = random.choice(list(item_set))\n",
        "    neg_data.append((user, random_product, r, t, 0))"
      ]
    },
    {
      "cell_type": "markdown",
      "metadata": {},
      "source": [
        "*Note code split below not for all models*"
      ]
    },
    {
      "cell_type": "markdown",
      "metadata": {},
      "source": [
        "### Preparing features for logistic regression and random forest models (a different dataframe and train/test/valid split is used for these models)"
      ]
    },
    {
      "cell_type": "markdown",
      "metadata": {},
      "source": [
        "For Logistic regression and random forest we want to include negative sets with a label in the dataframe we'll be using. The features we want to create include: Number of reviews per product, average rating of product, price of product, average user rating, max jaccard similarity for every item in a user-item pairing and other items that the user has bought"
      ]
    },
    {
      "cell_type": "code",
      "execution_count": 34,
      "metadata": {},
      "outputs": [],
      "source": [
        "EngineeredData = lpurchasedSet + neg_data"
      ]
    },
    {
      "cell_type": "code",
      "execution_count": 35,
      "metadata": {},
      "outputs": [],
      "source": [
        "EngineeredData_df = pd.DataFrame(EngineeredData, columns=['user_id', 'parent_asin', 'rating', 'timestamp', 'purchased'])"
      ]
    },
    {
      "cell_type": "code",
      "execution_count": 36,
      "metadata": {},
      "outputs": [],
      "source": [
        "only_average_asin = items_df[['parent_asin', 'average_rating']]"
      ]
    },
    {
      "cell_type": "code",
      "execution_count": 37,
      "metadata": {},
      "outputs": [],
      "source": [
        "EngineeredData_df = pd.merge(EngineeredData_df, only_average_asin, on='parent_asin', how='left')\n",
        "EngineeredData_df.drop(columns=['rating'], inplace=True)\n",
        "engineeredDataFinal = EngineeredData_df[['user_id', 'parent_asin', 'average_rating', 'purchased']]\n"
      ]
    },
    {
      "cell_type": "markdown",
      "metadata": {},
      "source": [
        "We want to create a feature that shows the number of reviews a product has"
      ]
    },
    {
      "cell_type": "code",
      "execution_count": 40,
      "metadata": {},
      "outputs": [],
      "source": [
        "num_reviews_per_product = {b: len(set(users)) for b, users in ratingsPerItem.items()}\n"
      ]
    },
    {
      "cell_type": "code",
      "execution_count": 41,
      "metadata": {},
      "outputs": [],
      "source": [
        "engineeredDataFinal['num_reviews_product'] = engineeredDataFinal['parent_asin'].map(num_reviews_per_product)"
      ]
    },
    {
      "cell_type": "markdown",
      "metadata": {},
      "source": [
        "Create a feature that shows a user's average review score"
      ]
    },
    {
      "cell_type": "code",
      "execution_count": 43,
      "metadata": {},
      "outputs": [],
      "source": [
        "average_user_reviews = reviews_df.groupby('user_id')['rating'].mean()"
      ]
    },
    {
      "cell_type": "code",
      "execution_count": 44,
      "metadata": {},
      "outputs": [],
      "source": [
        "engineeredDataFinal['average_user_rating'] = engineeredDataFinal['user_id'].map(average_user_reviews)"
      ]
    },
    {
      "cell_type": "markdown",
      "metadata": {},
      "source": [
        "Also include the price of the product"
      ]
    },
    {
      "cell_type": "code",
      "execution_count": 46,
      "metadata": {},
      "outputs": [],
      "source": [
        "price = items_df[['parent_asin', 'price']]"
      ]
    },
    {
      "cell_type": "code",
      "execution_count": 47,
      "metadata": {},
      "outputs": [],
      "source": [
        "engineeredDataFinal = pd.merge(engineeredDataFinal, price, on='parent_asin', how='left')"
      ]
    },
    {
      "cell_type": "code",
      "execution_count": 48,
      "metadata": {},
      "outputs": [],
      "source": [
        "###note we have to fill the missing values in the price column, here we're imputing with the mean of the price column\n",
        "engineeredDataFinal['price'] = engineeredDataFinal['price'].fillna(engineeredDataFinal['price'].mean())"
      ]
    },
    {
      "cell_type": "markdown",
      "metadata": {},
      "source": [
        "we want to create a feature that contains the max jaccard similarity between the item in the user-item pair and an item that the user has purchased, but before that we have to split the dataframe into train/valid/test dataframes"
      ]
    },
    {
      "cell_type": "code",
      "execution_count": 51,
      "metadata": {},
      "outputs": [],
      "source": [
        "from sklearn.model_selection import train_test_split\n"
      ]
    },
    {
      "cell_type": "code",
      "execution_count": 52,
      "metadata": {},
      "outputs": [],
      "source": [
        "def split_data(df, train_size=0.6, val_size=0.2, random_state=42):\n",
        "    train, temp = train_test_split(df, test_size=1-train_size, random_state=random_state)\n",
        "    validation, test = train_test_split(temp, test_size=val_size/(val_size + (1-train_size)), random_state=random_state)\n",
        "    return train, validation, test"
      ]
    },
    {
      "cell_type": "code",
      "execution_count": 53,
      "metadata": {},
      "outputs": [],
      "source": [
        "train_df, validation_df, test_df = split_data(engineeredDataFinal, train_size=0.6, val_size=0.2)"
      ]
    },
    {
      "cell_type": "markdown",
      "metadata": {},
      "source": [
        "Now let's find the max jaccard similarity for each row"
      ]
    },
    {
      "cell_type": "code",
      "execution_count": 54,
      "metadata": {},
      "outputs": [
        {
          "name": "stderr",
          "output_type": "stream",
          "text": [
            "100%|██████████| 984048/984048 [00:01<00:00, 726840.24it/s]\n",
            "100%|██████████| 146396/146396 [00:00<00:00, 682453.48it/s]\n",
            "100%|██████████| 146396/146396 [00:00<00:00, 1059626.75it/s]\n"
          ]
        }
      ],
      "source": [
        "from collections import defaultdict\n",
        "\n",
        "# Initialize separate dictionaries for train, validation, and test sets\n",
        "ratingsPerUser_train = defaultdict(list)\n",
        "ratingsPerItem_train = defaultdict(list)\n",
        "\n",
        "ratingsPerUser_valid = defaultdict(list)\n",
        "ratingsPerItem_valid = defaultdict(list)\n",
        "\n",
        "ratingsPerUser_test = defaultdict(list)\n",
        "ratingsPerItem_test = defaultdict(list)\n",
        "\n",
        "# Populate each dictionary based on the respective dataset\n",
        "for u, b, r, _ in tqdm(train_data):\n",
        "    ratingsPerUser_train[u].append((b, r))  # User u has rated product b with rating r in train set\n",
        "    ratingsPerItem_train[b].append((u, r))  # Product b has been rated by user u with rating r in train set\n",
        "\n",
        "for u, b, r, _ in tqdm(valid_data):\n",
        "    ratingsPerUser_valid[u].append((b, r))  # User u has rated product b with rating r in validation set\n",
        "    ratingsPerItem_valid[b].append((u, r))  # Product b has been rated by user u with rating r in validation set\n",
        "\n",
        "for u, b, r, _ in tqdm(test_data):\n",
        "    ratingsPerUser_test[u].append((b, r))  # User u has rated product b with rating r in test set\n",
        "    ratingsPerItem_test[b].append((u, r))  # Product b has been rated by user u with rating r in test set\n"
      ]
    },
    {
      "cell_type": "code",
      "execution_count": 58,
      "metadata": {},
      "outputs": [],
      "source": [
        "num_reviews_per_product = {b: len(set(users)) for b, users in ratingsPerItem.items()}\n",
        "product_user_sets = {b: set(ratingsPerItem.get(b, [])) for b in ratingsPerItem}\n"
      ]
    },
    {
      "cell_type": "code",
      "execution_count": 59,
      "metadata": {},
      "outputs": [],
      "source": [
        "def Jaccard(s1, s2):\n",
        "    numer = len(s1.intersection(s2))\n",
        "    denom = len(s1.union(s2))\n",
        "    if denom > 0:\n",
        "        return numer/denom\n",
        "    return 0"
      ]
    },
    {
      "cell_type": "code",
      "execution_count": 60,
      "metadata": {},
      "outputs": [],
      "source": [
        "def max_jaccard_for_product(row, ratingsPerUser):\n",
        "    user_id = row['user_id']\n",
        "    product_id = row['parent_asin']\n",
        "    \n",
        "    # Get the users who reviewed the target product\n",
        "    users_for_product = product_user_sets.get(product_id, set())\n",
        "    \n",
        "    # Initialize the max similarity\n",
        "    max_sim = 0\n",
        "    \n",
        "    # Get the list of products the user has reviewed in the provided dataset\n",
        "    reviewed_products = ratingsPerUser.get(user_id, [])\n",
        "    \n",
        "    # Calculate Jaccard similarity for each product the user has reviewed\n",
        "    for b, _ in reviewed_products:\n",
        "        if b == product_id:  # Skip the product itself\n",
        "            continue\n",
        "        \n",
        "        users_for_b = product_user_sets.get(b, set())\n",
        "        sim = Jaccard(users_for_product, users_for_b)\n",
        "        \n",
        "        # Update max similarity if a higher value is found\n",
        "        if sim > max_sim:\n",
        "            max_sim = sim\n",
        "    \n",
        "    return max_sim\n"
      ]
    },
    {
      "cell_type": "code",
      "execution_count": 61,
      "metadata": {},
      "outputs": [
        {
          "name": "stderr",
          "output_type": "stream",
          "text": [
            "100%|██████████| 1532208/1532208 [16:44<00:00, 1525.73it/s]\n"
          ]
        }
      ],
      "source": [
        "train_df['max_jaccard_similarity'] = train_df.progress_apply(max_jaccard_for_product, args=(ratingsPerUser_train,), axis=1)"
      ]
    },
    {
      "cell_type": "code",
      "execution_count": 63,
      "metadata": {},
      "outputs": [
        {
          "name": "stderr",
          "output_type": "stream",
          "text": [
            "100%|██████████| 340491/340491 [00:24<00:00, 13894.46it/s]\n"
          ]
        }
      ],
      "source": [
        "test_df['max_jaccard_similarity'] = test_df.progress_apply(max_jaccard_for_product, args=(ratingsPerUser_test,), axis=1)"
      ]
    },
    {
      "cell_type": "code",
      "execution_count": 64,
      "metadata": {},
      "outputs": [
        {
          "name": "stderr",
          "output_type": "stream",
          "text": [
            "100%|██████████| 680981/680981 [00:49<00:00, 13662.66it/s]\n"
          ]
        }
      ],
      "source": [
        "validation_df['max_jaccard_similarity'] = validation_df.progress_apply(max_jaccard_for_product, args=(ratingsPerUser_valid,), axis=1)"
      ]
    },
    {
      "cell_type": "code",
      "execution_count": 65,
      "metadata": {},
      "outputs": [],
      "source": [
        "train_df.to_csv('data/train.csv', index=False)\n",
        "test_df.to_csv('data/test.csv', index=False)\n",
        "validation_df.to_csv('data/validation.csv', index=False) #Save these files for later use"
      ]
    },
    {
      "cell_type": "markdown",
      "metadata": {},
      "source": [
        "Split data into feature and target"
      ]
    },
    {
      "cell_type": "code",
      "execution_count": 66,
      "metadata": {},
      "outputs": [],
      "source": [
        "X_train = train_df[['average_rating', 'num_reviews_product', 'average_user_rating', 'price', 'max_jaccard_similarity']]\n",
        "y_train = train_df['purchased']\n",
        "X_val = validation_df[['average_rating', 'num_reviews_product', 'average_user_rating', 'price', 'max_jaccard_similarity']]\n",
        "y_val = validation_df['purchased']\n",
        "X_test = test_df[['average_rating', 'num_reviews_product', 'average_user_rating', 'price', 'max_jaccard_similarity']]\n",
        "y_test = test_df['purchased']"
      ]
    },
    {
      "cell_type": "markdown",
      "metadata": {},
      "source": [
        "Standardize data"
      ]
    },
    {
      "cell_type": "code",
      "execution_count": 67,
      "metadata": {},
      "outputs": [],
      "source": [
        "from sklearn.preprocessing import StandardScaler\n",
        "scaler = StandardScaler()\n",
        "X_train_scaled = scaler.fit_transform(X_train)\n",
        "X_val_scaled = scaler.transform(X_val)\n",
        "X_test_scaled = scaler.transform(X_test)"
      ]
    },
    {
      "cell_type": "markdown",
      "metadata": {
        "id": "d3kOdBWkjDWg"
      },
      "source": [
        "# Models"
      ]
    },
    {
      "cell_type": "markdown",
      "metadata": {
        "id": "DKG3N9k1m42x"
      },
      "source": [
        "### Trivial Solution, most popular"
      ]
    },
    {
      "cell_type": "code",
      "execution_count": null,
      "metadata": {},
      "outputs": [],
      "source": []
    },
    {
      "cell_type": "code",
      "execution_count": null,
      "metadata": {},
      "outputs": [],
      "source": []
    },
    {
      "cell_type": "markdown",
      "metadata": {},
      "source": [
        "### Using jaccard similarity and most popular (change the name of this section later)"
      ]
    },
    {
      "cell_type": "markdown",
      "metadata": {},
      "source": []
    },
    {
      "cell_type": "code",
      "execution_count": null,
      "metadata": {},
      "outputs": [],
      "source": []
    },
    {
      "cell_type": "markdown",
      "metadata": {},
      "source": [
        "### Logistic Regression"
      ]
    },
    {
      "cell_type": "code",
      "execution_count": 68,
      "metadata": {},
      "outputs": [],
      "source": [
        "from sklearn.linear_model import LogisticRegression\n",
        "from sklearn.metrics import accuracy_score\n",
        "from sklearn.model_selection import GridSearchCV\n",
        "from sklearn.metrics import precision_score, recall_score\n",
        "\n"
      ]
    },
    {
      "cell_type": "code",
      "execution_count": 69,
      "metadata": {},
      "outputs": [],
      "source": [
        "param_grid = {\n",
        "    'C': [0.1, 1, 10],  # Regularization strength (lower values: stronger regularization)\n",
        "    'penalty': ['l1', 'l2'],  # Type of regularization (L1 or L2)\n",
        "    'solver': ['liblinear', 'saga'],  # Solvers that support L1 regularization\n",
        "}\n"
      ]
    },
    {
      "cell_type": "code",
      "execution_count": 70,
      "metadata": {},
      "outputs": [
        {
          "name": "stdout",
          "output_type": "stream",
          "text": [
            "Best Parameters: {'C': 10, 'penalty': 'l2', 'solver': 'saga'}\n",
            "Best Cross-Validation Accuracy: 0.8976\n"
          ]
        }
      ],
      "source": [
        "# Initialize the Logistic Regression model\n",
        "logreg = LogisticRegression(max_iter=10000)\n",
        "\n",
        "# Set up the grid search with 5-fold cross-validation, using validation set\n",
        "grid_search = GridSearchCV(logreg, param_grid, cv=5, scoring='accuracy', refit=True)\n",
        "\n",
        "# Fit the grid search to the training data\n",
        "grid_search.fit(X_train_scaled, y_train)\n",
        "\n",
        "# Get the best parameters and best score from the grid search\n",
        "best_params = grid_search.best_params_\n",
        "best_score = grid_search.best_score_\n",
        "\n",
        "print(f\"Best Parameters: {best_params}\")\n",
        "print(f\"Best Cross-Validation Accuracy: {best_score:.4f}\")"
      ]
    },
    {
      "cell_type": "code",
      "execution_count": 71,
      "metadata": {},
      "outputs": [],
      "source": [
        "best_logreg = grid_search.best_estimator_\n",
        "val_preds = best_logreg.predict(X_val_scaled)"
      ]
    },
    {
      "cell_type": "code",
      "execution_count": 72,
      "metadata": {},
      "outputs": [
        {
          "name": "stdout",
          "output_type": "stream",
          "text": [
            "Validation Accuracy: 0.7716\n"
          ]
        }
      ],
      "source": [
        "# Calculate the accuracy on the validation set\n",
        "val_accuracy = accuracy_score(y_val, val_preds)\n",
        "print(f\"Validation Accuracy: {val_accuracy:.4f}\")"
      ]
    },
    {
      "cell_type": "code",
      "execution_count": 73,
      "metadata": {},
      "outputs": [
        {
          "name": "stdout",
          "output_type": "stream",
          "text": [
            "Test Accuracy: 0.7663\n"
          ]
        }
      ],
      "source": [
        "# Now, evaluate the best model on the test set\n",
        "test_preds = best_logreg.predict(X_test_scaled)\n",
        "test_accuracy_log = accuracy_score(y_test, test_preds)\n",
        "test_precision_log = precision_score(y_test, test_preds)\n",
        "test_recall_log = recall_score(y_test, test_preds)\n",
        "\n",
        "# Print results\n",
        "print(f\"Test Accuracy for Logistic Regression: {test_accuracy_log:.4f}\")\n",
        "print(f\"Test Precision for Logistic Regression: {test_precision_log:.4f}\")\n",
        "print(f\"Test Recall for Logistic Regression: {test_recall_log:.4f}\")"
      ]
    },
    {
      "cell_type": "markdown",
      "metadata": {},
      "source": [
        "### Random Forest"
      ]
    },
    {
      "cell_type": "code",
      "execution_count": 62,
      "metadata": {},
      "outputs": [],
      "source": [
        "from sklearn.ensemble import RandomForestClassifier\n"
      ]
    },
    {
      "cell_type": "markdown",
      "metadata": {},
      "source": [
        "Define the parameter grid for RandomForestClassifier\n"
      ]
    },
    {
      "cell_type": "code",
      "execution_count": 74,
      "metadata": {},
      "outputs": [],
      "source": [
        "param_grid = {\n",
        "    'n_estimators': [50, 100, 200],  # Number of trees in the forest\n",
        "    'max_depth': [None, 10, 20, 30],  # Maximum depth of the tree\n",
        "    'min_samples_split': [2, 5, 10],  # Minimum number of samples required to split an internal node\n",
        "    'min_samples_leaf': [1, 2, 4],    # Minimum number of samples required to be at a leaf node\n",
        "    'max_features': ['auto', 'sqrt', 'log2'],  # Number of features to consider for the best split\n",
        "    'bootstrap': [True, False]  # Whether bootstrap samples are used when building trees\n",
        "}"
      ]
    },
    {
      "cell_type": "code",
      "execution_count": 75,
      "metadata": {},
      "outputs": [
        {
          "name": "stderr",
          "output_type": "stream",
          "text": [
            "[Parallel(n_jobs=1)]: Done  49 tasks      | elapsed:  1.6min\n",
            "[Parallel(n_jobs=1)]: Done  49 tasks      | elapsed:  1.6min\n",
            "[Parallel(n_jobs=1)]: Done  49 tasks      | elapsed:  1.6min\n",
            "[Parallel(n_jobs=1)]: Done  49 tasks      | elapsed:  1.7min\n",
            "[Parallel(n_jobs=1)]: Done  49 tasks      | elapsed:  1.7min\n",
            "[Parallel(n_jobs=1)]: Done  49 tasks      | elapsed:  1.7min\n",
            "[Parallel(n_jobs=1)]: Done  49 tasks      | elapsed:  1.7min\n",
            "[Parallel(n_jobs=1)]: Done  49 tasks      | elapsed:  1.7min\n",
            "[Parallel(n_jobs=1)]: Done  49 tasks      | elapsed:  1.7min\n",
            "[Parallel(n_jobs=1)]: Done  49 tasks      | elapsed:  1.7min\n",
            "[Parallel(n_jobs=1)]: Done  49 tasks      | elapsed:  1.7min\n",
            "[Parallel(n_jobs=1)]: Done  49 tasks      | elapsed:    8.1s\n",
            "[Parallel(n_jobs=1)]: Done  49 tasks      | elapsed:    8.3s\n",
            "[Parallel(n_jobs=1)]: Done  49 tasks      | elapsed:    8.3s\n",
            "[Parallel(n_jobs=1)]: Done  49 tasks      | elapsed:    8.4s\n",
            "[Parallel(n_jobs=1)]: Done  49 tasks      | elapsed:    8.6s\n",
            "[Parallel(n_jobs=1)]: Done  49 tasks      | elapsed:    7.7s\n",
            "[Parallel(n_jobs=1)]: Done  49 tasks      | elapsed:  1.6min\n",
            "[Parallel(n_jobs=1)]: Done  49 tasks      | elapsed:  1.6min\n",
            "[Parallel(n_jobs=1)]: Done  49 tasks      | elapsed:  1.6min\n",
            "[Parallel(n_jobs=1)]: Done  49 tasks      | elapsed:    7.8s\n",
            "[Parallel(n_jobs=1)]: Done  49 tasks      | elapsed:    7.9s\n",
            "[Parallel(n_jobs=1)]: Done  49 tasks      | elapsed:    7.8s\n",
            "[Parallel(n_jobs=1)]: Done  49 tasks      | elapsed:  1.6min\n",
            "[Parallel(n_jobs=1)]: Done  49 tasks      | elapsed:  1.6min\n",
            "[Parallel(n_jobs=1)]: Done  49 tasks      | elapsed:    7.8s\n",
            "[Parallel(n_jobs=1)]: Done  49 tasks      | elapsed:    7.8s\n",
            "[Parallel(n_jobs=1)]: Done  49 tasks      | elapsed:  1.6min\n",
            "[Parallel(n_jobs=1)]: Done  49 tasks      | elapsed:  1.6min\n",
            "[Parallel(n_jobs=1)]: Done  49 tasks      | elapsed:  1.6min\n",
            "[Parallel(n_jobs=1)]: Done  49 tasks      | elapsed:  1.7min\n",
            "[Parallel(n_jobs=1)]: Done  49 tasks      | elapsed:  1.6min\n",
            "[Parallel(n_jobs=1)]: Done  49 tasks      | elapsed:  1.6min\n",
            "[Parallel(n_jobs=1)]: Done  49 tasks      | elapsed:    7.9s\n",
            "[Parallel(n_jobs=1)]: Done  49 tasks      | elapsed:    7.8s\n",
            "[Parallel(n_jobs=1)]: Done  49 tasks      | elapsed:    7.5s\n",
            "[Parallel(n_jobs=1)]: Done  49 tasks      | elapsed:    7.9s\n",
            "[Parallel(n_jobs=1)]: Done 199 tasks      | elapsed:  6.7min\n",
            "[Parallel(n_jobs=1)]: Done  49 tasks      | elapsed:    9.9s\n",
            "[Parallel(n_jobs=1)]: Done  49 tasks      | elapsed:  1.7min\n",
            "[Parallel(n_jobs=1)]: Done  49 tasks      | elapsed:  1.6min\n",
            "[Parallel(n_jobs=1)]: Done  49 tasks      | elapsed:  1.7min\n",
            "[Parallel(n_jobs=1)]: Done  49 tasks      | elapsed:  1.6min\n",
            "[Parallel(n_jobs=1)]: Done  49 tasks      | elapsed:    7.7s\n",
            "[Parallel(n_jobs=1)]: Done  49 tasks      | elapsed:    7.8s\n",
            "[Parallel(n_jobs=1)]: Done 199 tasks      | elapsed:   36.4s\n",
            "[Parallel(n_jobs=1)]: Done 199 tasks      | elapsed:  6.6min\n",
            "[Parallel(n_jobs=1)]: Done 199 tasks      | elapsed:  6.6min\n",
            "[Parallel(n_jobs=1)]: Done 199 tasks      | elapsed:  6.6min\n",
            "[Parallel(n_jobs=1)]: Done 199 tasks      | elapsed:  6.6min\n",
            "[Parallel(n_jobs=1)]: Done  49 tasks      | elapsed:    9.9s\n",
            "[Parallel(n_jobs=1)]: Done  49 tasks      | elapsed:   10.1s\n",
            "[Parallel(n_jobs=1)]: Done  49 tasks      | elapsed:   10.1s\n",
            "[Parallel(n_jobs=1)]: Done  49 tasks      | elapsed:   10.1s\n",
            "[Parallel(n_jobs=1)]: Done  49 tasks      | elapsed:    9.1s\n",
            "[Parallel(n_jobs=1)]: Done  49 tasks      | elapsed:  1.6min\n",
            "[Parallel(n_jobs=1)]: Done  49 tasks      | elapsed:  1.6min\n",
            "[Parallel(n_jobs=1)]: Done  49 tasks      | elapsed:    9.6s\n",
            "[Parallel(n_jobs=1)]: Done  49 tasks      | elapsed:    9.6s\n",
            "[Parallel(n_jobs=1)]: Done  49 tasks      | elapsed:  1.6min\n",
            "[Parallel(n_jobs=1)]: Done 199 tasks      | elapsed:   43.9s\n",
            "[Parallel(n_jobs=1)]: Done 199 tasks      | elapsed:   43.6s\n",
            "[Parallel(n_jobs=1)]: Done 199 tasks      | elapsed:   44.6s\n",
            "[Parallel(n_jobs=1)]: Done 199 tasks      | elapsed:   44.2s\n",
            "[Parallel(n_jobs=1)]: Done  49 tasks      | elapsed:  1.6min\n",
            "[Parallel(n_jobs=1)]: Done  49 tasks      | elapsed:  1.6min\n",
            "[Parallel(n_jobs=1)]: Done  49 tasks      | elapsed:  1.6min\n",
            "[Parallel(n_jobs=1)]: Done  49 tasks      | elapsed:    7.6s\n",
            "/Users/michaelvasandani/miniforge3/envs/cse158/lib/python3.12/site-packages/joblib/externals/loky/process_executor.py:752: UserWarning: A worker stopped while some jobs were given to the executor. This can be caused by a too short worker timeout or by a memory leak.\n",
            "  warnings.warn(\n",
            "[Parallel(n_jobs=1)]: Done  49 tasks      | elapsed:    7.2s\n",
            "[Parallel(n_jobs=1)]: Done  49 tasks      | elapsed:  1.6min\n",
            "[Parallel(n_jobs=1)]: Done  49 tasks      | elapsed:  1.6min\n",
            "[Parallel(n_jobs=1)]: Done  49 tasks      | elapsed:  1.6min\n",
            "[Parallel(n_jobs=1)]: Done  49 tasks      | elapsed:  1.6min\n",
            "[Parallel(n_jobs=1)]: Done  49 tasks      | elapsed:    6.4s\n",
            "[Parallel(n_jobs=1)]: Done  49 tasks      | elapsed:    6.6s\n",
            "[Parallel(n_jobs=1)]: Done  49 tasks      | elapsed:    6.7s\n",
            "[Parallel(n_jobs=1)]: Done 199 tasks      | elapsed:  6.4min\n",
            "[Parallel(n_jobs=1)]: Done  49 tasks      | elapsed:    8.8s\n",
            "[Parallel(n_jobs=1)]: Done  49 tasks      | elapsed:  1.5min\n",
            "[Parallel(n_jobs=1)]: Done  49 tasks      | elapsed:  1.5min\n",
            "[Parallel(n_jobs=1)]: Done 199 tasks      | elapsed:   34.5s\n",
            "[Parallel(n_jobs=1)]: Done  49 tasks      | elapsed:    7.4s\n",
            "[Parallel(n_jobs=1)]: Done  49 tasks      | elapsed:  1.6min\n",
            "[Parallel(n_jobs=1)]: Done  49 tasks      | elapsed:  1.6min\n",
            "[Parallel(n_jobs=1)]: Done  49 tasks      | elapsed:  1.6min\n",
            "[Parallel(n_jobs=1)]: Done 199 tasks      | elapsed:  6.4min\n",
            "[Parallel(n_jobs=1)]: Done 199 tasks      | elapsed:  6.4min\n",
            "[Parallel(n_jobs=1)]: Done 199 tasks      | elapsed:  6.4min\n",
            "[Parallel(n_jobs=1)]: Done  49 tasks      | elapsed:    9.2s\n",
            "[Parallel(n_jobs=1)]: Done  49 tasks      | elapsed:    9.1s\n",
            "[Parallel(n_jobs=1)]: Done  49 tasks      | elapsed:    8.9s\n",
            "[Parallel(n_jobs=1)]: Done  49 tasks      | elapsed:  1.5min\n",
            "[Parallel(n_jobs=1)]: Done  49 tasks      | elapsed:    6.8s\n",
            "[Parallel(n_jobs=1)]: Done  49 tasks      | elapsed:    6.7s\n",
            "[Parallel(n_jobs=1)]: Done 199 tasks      | elapsed:   33.4s\n",
            "[Parallel(n_jobs=1)]: Done 199 tasks      | elapsed:   33.0s\n",
            "[Parallel(n_jobs=1)]: Done  49 tasks      | elapsed:    6.6s\n",
            "[Parallel(n_jobs=1)]: Done  49 tasks      | elapsed:  1.6min\n",
            "[Parallel(n_jobs=1)]: Done  49 tasks      | elapsed:    6.8s\n",
            "[Parallel(n_jobs=1)]: Done 199 tasks      | elapsed:   32.2s\n",
            "[Parallel(n_jobs=1)]: Done 199 tasks      | elapsed:  6.3min\n",
            "[Parallel(n_jobs=1)]: Done  49 tasks      | elapsed:    8.5s\n",
            "[Parallel(n_jobs=1)]: Done  49 tasks      | elapsed:  1.5min\n",
            "[Parallel(n_jobs=1)]: Done  49 tasks      | elapsed:  1.5min\n",
            "[Parallel(n_jobs=1)]: Done  49 tasks      | elapsed:  1.6min\n",
            "[Parallel(n_jobs=1)]: Done  49 tasks      | elapsed:  1.6min\n",
            "[Parallel(n_jobs=1)]: Done  49 tasks      | elapsed:  1.6min\n",
            "[Parallel(n_jobs=1)]: Done 199 tasks      | elapsed:   34.3s\n",
            "[Parallel(n_jobs=1)]: Done  49 tasks      | elapsed:  1.6min\n",
            "[Parallel(n_jobs=1)]: Done  49 tasks      | elapsed:    9.0s\n",
            "[Parallel(n_jobs=1)]: Done  49 tasks      | elapsed:    8.2s\n",
            "[Parallel(n_jobs=1)]: Done  49 tasks      | elapsed:  1.6min\n",
            "[Parallel(n_jobs=1)]: Done  49 tasks      | elapsed:    7.6s\n",
            "[Parallel(n_jobs=1)]: Done  49 tasks      | elapsed:    7.3s\n",
            "[Parallel(n_jobs=1)]: Done  49 tasks      | elapsed:    7.3s\n",
            "[Parallel(n_jobs=1)]: Done 199 tasks      | elapsed:  6.3min\n",
            "[Parallel(n_jobs=1)]: Done  49 tasks      | elapsed:    7.1s\n",
            "[Parallel(n_jobs=1)]: Done  49 tasks      | elapsed:  1.6min\n",
            "[Parallel(n_jobs=1)]: Done  49 tasks      | elapsed:  1.6min\n",
            "[Parallel(n_jobs=1)]: Done  49 tasks      | elapsed:  1.6min\n",
            "[Parallel(n_jobs=1)]: Done  49 tasks      | elapsed:  1.5min\n",
            "[Parallel(n_jobs=1)]: Done  49 tasks      | elapsed:  1.6min\n",
            "[Parallel(n_jobs=1)]: Done  49 tasks      | elapsed:  1.6min\n",
            "[Parallel(n_jobs=1)]: Done 199 tasks      | elapsed:   29.2s\n",
            "[Parallel(n_jobs=1)]: Done 199 tasks      | elapsed:  6.2min\n",
            "[Parallel(n_jobs=1)]: Done  49 tasks      | elapsed:    7.6s\n",
            "[Parallel(n_jobs=1)]: Done 199 tasks      | elapsed:  6.3min\n",
            "[Parallel(n_jobs=1)]: Done  49 tasks      | elapsed:    7.5s\n",
            "[Parallel(n_jobs=1)]: Done  49 tasks      | elapsed:    7.4s\n",
            "[Parallel(n_jobs=1)]: Done  49 tasks      | elapsed:    8.2s\n",
            "[Parallel(n_jobs=1)]: Done 199 tasks      | elapsed:   30.2s\n",
            "[Parallel(n_jobs=1)]: Done  49 tasks      | elapsed:    8.2s\n",
            "[Parallel(n_jobs=1)]: Done  49 tasks      | elapsed:    8.1s\n",
            "[Parallel(n_jobs=1)]: Done  49 tasks      | elapsed:  1.6min\n",
            "[Parallel(n_jobs=1)]: Done  49 tasks      | elapsed:    7.5s\n",
            "[Parallel(n_jobs=1)]: Done 199 tasks      | elapsed:   29.3s\n",
            "[Parallel(n_jobs=1)]: Done 199 tasks      | elapsed:  6.3min\n",
            "[Parallel(n_jobs=1)]: Done 199 tasks      | elapsed:  6.3min\n",
            "[Parallel(n_jobs=1)]: Done  49 tasks      | elapsed:    7.6s\n",
            "[Parallel(n_jobs=1)]: Done  49 tasks      | elapsed:    7.5s\n",
            "[Parallel(n_jobs=1)]: Done  49 tasks      | elapsed:  1.6min\n",
            "[Parallel(n_jobs=1)]: Done  49 tasks      | elapsed:  1.5min\n",
            "[Parallel(n_jobs=1)]: Done 199 tasks      | elapsed:   29.3s\n",
            "[Parallel(n_jobs=1)]: Done  49 tasks      | elapsed:  1.6min\n",
            "[Parallel(n_jobs=1)]: Done  49 tasks      | elapsed:  1.6min\n",
            "[Parallel(n_jobs=1)]: Done 199 tasks      | elapsed:   29.4s\n",
            "[Parallel(n_jobs=1)]: Done  49 tasks      | elapsed:  1.6min\n",
            "[Parallel(n_jobs=1)]: Done  49 tasks      | elapsed:  1.5min\n",
            "[Parallel(n_jobs=1)]: Done  49 tasks      | elapsed:  1.5min\n",
            "[Parallel(n_jobs=1)]: Done  49 tasks      | elapsed:    7.4s\n",
            "[Parallel(n_jobs=1)]: Done  49 tasks      | elapsed:    7.2s\n",
            "[Parallel(n_jobs=1)]: Done  49 tasks      | elapsed:    7.1s\n",
            "[Parallel(n_jobs=1)]: Done  49 tasks      | elapsed:    7.1s\n",
            "[Parallel(n_jobs=1)]: Done 199 tasks      | elapsed:  6.2min\n",
            "[Parallel(n_jobs=1)]: Done  49 tasks      | elapsed:  1.6min\n",
            "[Parallel(n_jobs=1)]: Done  49 tasks      | elapsed:    7.7s\n",
            "[Parallel(n_jobs=1)]: Done  49 tasks      | elapsed:  1.5min\n",
            "[Parallel(n_jobs=1)]: Done  49 tasks      | elapsed:  1.5min\n",
            "[Parallel(n_jobs=1)]: Done  49 tasks      | elapsed:    7.6s\n",
            "[Parallel(n_jobs=1)]: Done  49 tasks      | elapsed:  1.5min\n",
            "[Parallel(n_jobs=1)]: Done  49 tasks      | elapsed:  1.6min\n",
            "[Parallel(n_jobs=1)]: Done  49 tasks      | elapsed:  1.6min\n",
            "[Parallel(n_jobs=1)]: Done 199 tasks      | elapsed:   31.8s\n",
            "[Parallel(n_jobs=1)]: Done 199 tasks      | elapsed:  6.3min\n",
            "[Parallel(n_jobs=1)]: Done  49 tasks      | elapsed:    8.8s\n",
            "[Parallel(n_jobs=1)]: Done  49 tasks      | elapsed:  1.6min\n",
            "[Parallel(n_jobs=1)]: Done  49 tasks      | elapsed:    7.7s\n",
            "[Parallel(n_jobs=1)]: Done  49 tasks      | elapsed:    7.1s\n",
            "[Parallel(n_jobs=1)]: Done  49 tasks      | elapsed:    6.7s\n",
            "[Parallel(n_jobs=1)]: Done  49 tasks      | elapsed:    7.1s\n",
            "[Parallel(n_jobs=1)]: Done  49 tasks      | elapsed:    6.9s\n",
            "[Parallel(n_jobs=1)]: Done  49 tasks      | elapsed:  1.6min\n",
            "[Parallel(n_jobs=1)]: Done 199 tasks      | elapsed:   30.7s\n",
            "[Parallel(n_jobs=1)]: Done 199 tasks      | elapsed:  6.3min\n",
            "[Parallel(n_jobs=1)]: Done 199 tasks      | elapsed:  6.3min\n",
            "[Parallel(n_jobs=1)]: Done 199 tasks      | elapsed:  6.3min\n",
            "[Parallel(n_jobs=1)]: Done  49 tasks      | elapsed:    7.9s\n",
            "[Parallel(n_jobs=1)]: Done  49 tasks      | elapsed:    7.7s\n",
            "[Parallel(n_jobs=1)]: Done  49 tasks      | elapsed:    7.6s\n",
            "[Parallel(n_jobs=1)]: Done  49 tasks      | elapsed:  1.5min\n",
            "[Parallel(n_jobs=1)]: Done  49 tasks      | elapsed:  1.5min\n",
            "[Parallel(n_jobs=1)]: Done 199 tasks      | elapsed:   30.2s\n",
            "[Parallel(n_jobs=1)]: Done  49 tasks      | elapsed:  1.5min\n",
            "[Parallel(n_jobs=1)]: Done  49 tasks      | elapsed:  1.5min\n",
            "[Parallel(n_jobs=1)]: Done  49 tasks      | elapsed:  1.5min\n",
            "[Parallel(n_jobs=1)]: Done  49 tasks      | elapsed:  1.5min\n",
            "[Parallel(n_jobs=1)]: Done 199 tasks      | elapsed:   30.6s\n",
            "[Parallel(n_jobs=1)]: Done 199 tasks      | elapsed:   30.2s\n",
            "[Parallel(n_jobs=1)]: Done  49 tasks      | elapsed:    6.6s\n",
            "[Parallel(n_jobs=1)]: Done  49 tasks      | elapsed:    6.3s\n",
            "[Parallel(n_jobs=1)]: Done  49 tasks      | elapsed:    6.7s\n",
            "[Parallel(n_jobs=1)]: Done  49 tasks      | elapsed:  1.5min\n",
            "[Parallel(n_jobs=1)]: Done  49 tasks      | elapsed:  1.5min\n",
            "[Parallel(n_jobs=1)]: Done  49 tasks      | elapsed:  1.5min\n",
            "[Parallel(n_jobs=1)]: Done  49 tasks      | elapsed:    6.8s\n",
            "[Parallel(n_jobs=1)]: Done  49 tasks      | elapsed:  1.5min\n",
            "[Parallel(n_jobs=1)]: Done  49 tasks      | elapsed:    6.9s\n",
            "[Parallel(n_jobs=1)]: Done  49 tasks      | elapsed:  1.5min\n",
            "[Parallel(n_jobs=1)]: Done  49 tasks      | elapsed:  1.6min\n",
            "[Parallel(n_jobs=1)]: Done 199 tasks      | elapsed:  6.3min\n",
            "[Parallel(n_jobs=1)]: Done  49 tasks      | elapsed:    8.3s\n",
            "[Parallel(n_jobs=1)]: Done 199 tasks      | elapsed:  6.3min\n",
            "[Parallel(n_jobs=1)]: Done  49 tasks      | elapsed:  1.6min\n",
            "[Parallel(n_jobs=1)]: Done  49 tasks      | elapsed:    7.0s\n",
            "[Parallel(n_jobs=1)]: Done  49 tasks      | elapsed:  1.6min\n",
            "[Parallel(n_jobs=1)]: Done  49 tasks      | elapsed:    8.2s\n",
            "[Parallel(n_jobs=1)]: Done  49 tasks      | elapsed:    6.4s\n",
            "[Parallel(n_jobs=1)]: Done  49 tasks      | elapsed:    6.4s\n",
            "[Parallel(n_jobs=1)]: Done  49 tasks      | elapsed:    6.3s\n",
            "[Parallel(n_jobs=1)]: Done 199 tasks      | elapsed:   31.8s\n",
            "[Parallel(n_jobs=1)]: Done 199 tasks      | elapsed:   30.9s\n",
            "[Parallel(n_jobs=1)]: Done 199 tasks      | elapsed:  6.3min\n",
            "[Parallel(n_jobs=1)]: Done 199 tasks      | elapsed:  6.3min\n",
            "[Parallel(n_jobs=1)]: Done 199 tasks      | elapsed:  6.3min\n",
            "[Parallel(n_jobs=1)]: Done  49 tasks      | elapsed:    7.7s\n",
            "[Parallel(n_jobs=1)]: Done  49 tasks      | elapsed:    7.4s\n",
            "[Parallel(n_jobs=1)]: Done  49 tasks      | elapsed:    7.2s\n",
            "[Parallel(n_jobs=1)]: Done  49 tasks      | elapsed:  1.5min\n",
            "[Parallel(n_jobs=1)]: Done  49 tasks      | elapsed:  1.5min\n",
            "[Parallel(n_jobs=1)]: Done  49 tasks      | elapsed:    6.5s\n",
            "[Parallel(n_jobs=1)]: Done  49 tasks      | elapsed:  1.5min\n",
            "[Parallel(n_jobs=1)]: Done  49 tasks      | elapsed:  1.5min\n",
            "[Parallel(n_jobs=1)]: Done  49 tasks      | elapsed:  1.5min\n",
            "[Parallel(n_jobs=1)]: Done 199 tasks      | elapsed:   29.7s\n",
            "[Parallel(n_jobs=1)]: Done 199 tasks      | elapsed:   29.5s\n",
            "[Parallel(n_jobs=1)]: Done  49 tasks      | elapsed:    6.4s\n",
            "[Parallel(n_jobs=1)]: Done 199 tasks      | elapsed:   28.9s\n",
            "[Parallel(n_jobs=1)]: Done  49 tasks      | elapsed:  1.5min\n",
            "[Parallel(n_jobs=1)]: Done  49 tasks      | elapsed:    7.0s\n",
            "[Parallel(n_jobs=1)]: Done  49 tasks      | elapsed:  1.5min\n",
            "[Parallel(n_jobs=1)]: Done  49 tasks      | elapsed:  1.5min\n",
            "[Parallel(n_jobs=1)]: Done  49 tasks      | elapsed:  1.5min\n",
            "[Parallel(n_jobs=1)]: Done  49 tasks      | elapsed:  1.5min\n",
            "[Parallel(n_jobs=1)]: Done  49 tasks      | elapsed:    6.8s\n",
            "[Parallel(n_jobs=1)]: Done  49 tasks      | elapsed:  1.5min\n",
            "[Parallel(n_jobs=1)]: Done  49 tasks      | elapsed:    6.7s\n",
            "[Parallel(n_jobs=1)]: Done  49 tasks      | elapsed:    6.9s\n",
            "[Parallel(n_jobs=1)]: Done  49 tasks      | elapsed:  1.5min\n",
            "[Parallel(n_jobs=1)]: Done 199 tasks      | elapsed:  6.3min\n",
            "[Parallel(n_jobs=1)]: Done  49 tasks      | elapsed:    7.1s\n",
            "[Parallel(n_jobs=1)]: Done  49 tasks      | elapsed:  1.6min\n",
            "[Parallel(n_jobs=1)]: Done  49 tasks      | elapsed:  1.6min\n",
            "[Parallel(n_jobs=1)]: Done  49 tasks      | elapsed:    8.5s\n",
            "[Parallel(n_jobs=1)]: Done  49 tasks      | elapsed:  1.6min\n",
            "[Parallel(n_jobs=1)]: Done  49 tasks      | elapsed:    8.7s\n",
            "[Parallel(n_jobs=1)]: Done 199 tasks      | elapsed:   30.3s\n",
            "[Parallel(n_jobs=1)]: Done  49 tasks      | elapsed:    6.8s\n",
            "[Parallel(n_jobs=1)]: Done 199 tasks      | elapsed:  6.3min\n",
            "[Parallel(n_jobs=1)]: Done 199 tasks      | elapsed:  6.3min\n",
            "[Parallel(n_jobs=1)]: Done 199 tasks      | elapsed:  6.3min\n",
            "[Parallel(n_jobs=1)]: Done 199 tasks      | elapsed:  6.3min\n",
            "[Parallel(n_jobs=1)]: Done  49 tasks      | elapsed:    7.8s\n",
            "[Parallel(n_jobs=1)]: Done  49 tasks      | elapsed:    7.8s\n",
            "[Parallel(n_jobs=1)]: Done  49 tasks      | elapsed:    7.4s\n",
            "[Parallel(n_jobs=1)]: Done  49 tasks      | elapsed:    7.0s\n",
            "[Parallel(n_jobs=1)]: Done  49 tasks      | elapsed:    6.3s\n",
            "[Parallel(n_jobs=1)]: Done  49 tasks      | elapsed:    7.3s\n",
            "[Parallel(n_jobs=1)]: Done  49 tasks      | elapsed:  1.6min\n",
            "[Parallel(n_jobs=1)]: Done  49 tasks      | elapsed:  1.6min\n",
            "[Parallel(n_jobs=1)]: Done 199 tasks      | elapsed:   30.5s\n",
            "[Parallel(n_jobs=1)]: Done  49 tasks      | elapsed:  1.6min\n",
            "[Parallel(n_jobs=1)]: Done 199 tasks      | elapsed:   29.5s\n",
            "[Parallel(n_jobs=1)]: Done 199 tasks      | elapsed:   29.8s\n",
            "[Parallel(n_jobs=1)]: Done 199 tasks      | elapsed:   30.1s\n",
            "[Parallel(n_jobs=1)]: Done  49 tasks      | elapsed:  1.6min\n",
            "[Parallel(n_jobs=1)]: Done  49 tasks      | elapsed:  1.6min\n",
            "[Parallel(n_jobs=1)]: Done  49 tasks      | elapsed:  1.6min\n",
            "[Parallel(n_jobs=1)]: Done  49 tasks      | elapsed:  1.6min\n",
            "[Parallel(n_jobs=1)]: Done  49 tasks      | elapsed:  1.6min\n",
            "[Parallel(n_jobs=1)]: Done  49 tasks      | elapsed:    7.1s\n",
            "[Parallel(n_jobs=1)]: Done  49 tasks      | elapsed:  1.6min\n",
            "[Parallel(n_jobs=1)]: Done  49 tasks      | elapsed:  1.6min\n",
            "[Parallel(n_jobs=1)]: Done  49 tasks      | elapsed:    7.6s\n",
            "[Parallel(n_jobs=1)]: Done  49 tasks      | elapsed:    7.8s\n",
            "[Parallel(n_jobs=1)]: Done  49 tasks      | elapsed:    8.1s\n",
            "[Parallel(n_jobs=1)]: Done  49 tasks      | elapsed:    7.6s\n",
            "[Parallel(n_jobs=1)]: Done 199 tasks      | elapsed:  6.5min\n",
            "[Parallel(n_jobs=1)]: Done  49 tasks      | elapsed:    6.9s\n",
            "[Parallel(n_jobs=1)]: Done  49 tasks      | elapsed:  1.6min\n",
            "[Parallel(n_jobs=1)]: Done  49 tasks      | elapsed:  1.6min\n",
            "[Parallel(n_jobs=1)]: Done  49 tasks      | elapsed:  1.6min\n",
            "[Parallel(n_jobs=1)]: Done  49 tasks      | elapsed:  1.6min\n",
            "[Parallel(n_jobs=1)]: Done  49 tasks      | elapsed:  1.6min\n",
            "[Parallel(n_jobs=1)]: Done  49 tasks      | elapsed:    7.0s\n",
            "[Parallel(n_jobs=1)]: Done 199 tasks      | elapsed:   28.6s\n",
            "[Parallel(n_jobs=1)]: Done 199 tasks      | elapsed:  6.4min\n",
            "[Parallel(n_jobs=1)]: Done 199 tasks      | elapsed:  6.4min\n",
            "[Parallel(n_jobs=1)]: Done 199 tasks      | elapsed:  6.4min\n",
            "[Parallel(n_jobs=1)]: Done  49 tasks      | elapsed:    7.8s\n",
            "[Parallel(n_jobs=1)]: Done  49 tasks      | elapsed:    7.6s\n",
            "[Parallel(n_jobs=1)]: Done 199 tasks      | elapsed:  6.4min\n",
            "[Parallel(n_jobs=1)]: Done  49 tasks      | elapsed:    7.4s\n",
            "[Parallel(n_jobs=1)]: Done  49 tasks      | elapsed:    6.4s\n",
            "[Parallel(n_jobs=1)]: Done  49 tasks      | elapsed:    6.2s\n",
            "[Parallel(n_jobs=1)]: Done  49 tasks      | elapsed:    6.2s\n",
            "[Parallel(n_jobs=1)]: Done  49 tasks      | elapsed:    6.3s\n",
            "[Parallel(n_jobs=1)]: Done  49 tasks      | elapsed:    6.5s\n",
            "[Parallel(n_jobs=1)]: Done  49 tasks      | elapsed:  1.5min\n",
            "[Parallel(n_jobs=1)]: Done  49 tasks      | elapsed:  1.5min\n",
            "[Parallel(n_jobs=1)]: Done 199 tasks      | elapsed:   27.4s\n",
            "[Parallel(n_jobs=1)]: Done 199 tasks      | elapsed:   27.0s\n",
            "[Parallel(n_jobs=1)]: Done 199 tasks      | elapsed:   27.1s\n",
            "[Parallel(n_jobs=1)]: Done 199 tasks      | elapsed:   26.9s\n",
            "[Parallel(n_jobs=1)]: Done  49 tasks      | elapsed:  1.5min\n",
            "[Parallel(n_jobs=1)]: Done  49 tasks      | elapsed:  1.5min\n",
            "[Parallel(n_jobs=1)]: Done  49 tasks      | elapsed:  1.5min\n",
            "[Parallel(n_jobs=1)]: Done  49 tasks      | elapsed:  1.5min\n",
            "[Parallel(n_jobs=1)]: Done  49 tasks      | elapsed:  1.5min\n",
            "[Parallel(n_jobs=1)]: Done  49 tasks      | elapsed:  1.5min\n",
            "[Parallel(n_jobs=1)]: Done  49 tasks      | elapsed:  1.5min\n",
            "[Parallel(n_jobs=1)]: Done  49 tasks      | elapsed:    6.1s\n",
            "[Parallel(n_jobs=1)]: Done  49 tasks      | elapsed:    6.0s\n",
            "[Parallel(n_jobs=1)]: Done  49 tasks      | elapsed:    5.9s\n",
            "[Parallel(n_jobs=1)]: Done  49 tasks      | elapsed:    6.1s\n",
            "[Parallel(n_jobs=1)]: Done  49 tasks      | elapsed:    6.5s\n",
            "[Parallel(n_jobs=1)]: Done  49 tasks      | elapsed:  1.5min\n",
            "[Parallel(n_jobs=1)]: Done 199 tasks      | elapsed:  6.2min\n",
            "[Parallel(n_jobs=1)]: Done  49 tasks      | elapsed:   10.1s\n",
            "[Parallel(n_jobs=1)]: Done  49 tasks      | elapsed:  1.6min\n",
            "[Parallel(n_jobs=1)]: Done  49 tasks      | elapsed:  1.6min\n",
            "[Parallel(n_jobs=1)]: Done  49 tasks      | elapsed:  1.6min\n",
            "[Parallel(n_jobs=1)]: Done  49 tasks      | elapsed:  1.7min\n",
            "[Parallel(n_jobs=1)]: Done  49 tasks      | elapsed:  1.6min\n",
            "[Parallel(n_jobs=1)]: Done 199 tasks      | elapsed:   34.3s\n",
            "[Parallel(n_jobs=1)]: Done  49 tasks      | elapsed:    7.4s\n",
            "[Parallel(n_jobs=1)]: Done 199 tasks      | elapsed:  6.3min\n",
            "[Parallel(n_jobs=1)]: Done 199 tasks      | elapsed:  6.4min\n",
            "[Parallel(n_jobs=1)]: Done  49 tasks      | elapsed:    7.2s\n",
            "[Parallel(n_jobs=1)]: Done  49 tasks      | elapsed:    6.9s\n",
            "[Parallel(n_jobs=1)]: Done  49 tasks      | elapsed:    6.1s\n",
            "[Parallel(n_jobs=1)]: Done  49 tasks      | elapsed:    6.1s\n",
            "[Parallel(n_jobs=1)]: Done  49 tasks      | elapsed:    5.9s\n",
            "[Parallel(n_jobs=1)]: Done  49 tasks      | elapsed:    6.2s\n",
            "[Parallel(n_jobs=1)]: Done  49 tasks      | elapsed:  1.6min\n",
            "[Parallel(n_jobs=1)]: Done 199 tasks      | elapsed:   26.4s\n",
            "[Parallel(n_jobs=1)]: Done 199 tasks      | elapsed:   26.3s\n",
            "[Parallel(n_jobs=1)]: Done  49 tasks      | elapsed:  1.6min\n",
            "[Parallel(n_jobs=1)]: Done 199 tasks      | elapsed:  6.3min\n",
            "[Parallel(n_jobs=1)]: Done 199 tasks      | elapsed:  6.3min\n",
            "[Parallel(n_jobs=1)]: Done  49 tasks      | elapsed:    7.1s\n",
            "[Parallel(n_jobs=1)]: Done  49 tasks      | elapsed:    7.0s\n",
            "[Parallel(n_jobs=1)]: Done  49 tasks      | elapsed:  1.5min\n",
            "[Parallel(n_jobs=1)]: Done  49 tasks      | elapsed:  1.5min\n",
            "[Parallel(n_jobs=1)]: Done  49 tasks      | elapsed:  1.6min\n",
            "[Parallel(n_jobs=1)]: Done 199 tasks      | elapsed:   28.5s\n",
            "[Parallel(n_jobs=1)]: Done  49 tasks      | elapsed:  1.6min\n",
            "[Parallel(n_jobs=1)]: Done 199 tasks      | elapsed:   28.8s\n",
            "[Parallel(n_jobs=1)]: Done  49 tasks      | elapsed:  1.6min\n",
            "[Parallel(n_jobs=1)]: Done  49 tasks      | elapsed:  1.6min\n",
            "[Parallel(n_jobs=1)]: Done  49 tasks      | elapsed:    8.3s\n",
            "[Parallel(n_jobs=1)]: Done  49 tasks      | elapsed:    8.2s\n",
            "[Parallel(n_jobs=1)]: Done  49 tasks      | elapsed:    7.7s\n",
            "[Parallel(n_jobs=1)]: Done  49 tasks      | elapsed:    8.3s\n",
            "[Parallel(n_jobs=1)]: Done 199 tasks      | elapsed:  6.4min\n",
            "[Parallel(n_jobs=1)]: Done  49 tasks      | elapsed:    8.0s\n",
            "[Parallel(n_jobs=1)]: Done  49 tasks      | elapsed:  1.7min\n",
            "[Parallel(n_jobs=1)]: Done  49 tasks      | elapsed:  1.7min\n",
            "[Parallel(n_jobs=1)]: Done  49 tasks      | elapsed:  1.7min\n",
            "[Parallel(n_jobs=1)]: Done  49 tasks      | elapsed:  1.7min\n",
            "[Parallel(n_jobs=1)]: Done  49 tasks      | elapsed:    9.4s\n",
            "[Parallel(n_jobs=1)]: Done  49 tasks      | elapsed:  1.7min\n",
            "[Parallel(n_jobs=1)]: Done 199 tasks      | elapsed:   31.1s\n",
            "[Parallel(n_jobs=1)]: Done  49 tasks      | elapsed:  1.7min\n",
            "[Parallel(n_jobs=1)]: Done 199 tasks      | elapsed:  6.5min\n",
            "[Parallel(n_jobs=1)]: Done  49 tasks      | elapsed:    8.6s\n",
            "[Parallel(n_jobs=1)]: Done 199 tasks      | elapsed:  6.5min\n",
            "[Parallel(n_jobs=1)]: Done  49 tasks      | elapsed:    8.8s\n",
            "[Parallel(n_jobs=1)]: Done  49 tasks      | elapsed:  1.8min\n",
            "[Parallel(n_jobs=1)]: Done  49 tasks      | elapsed:  1.8min\n",
            "[Parallel(n_jobs=1)]: Done  49 tasks      | elapsed:   11.6s\n",
            "[Parallel(n_jobs=1)]: Done 199 tasks      | elapsed:   33.0s\n",
            "[Parallel(n_jobs=1)]: Done  49 tasks      | elapsed:    9.8s\n",
            "[Parallel(n_jobs=1)]: Done  49 tasks      | elapsed:    9.8s\n",
            "[Parallel(n_jobs=1)]: Done  49 tasks      | elapsed:    9.1s\n",
            "[Parallel(n_jobs=1)]: Done  49 tasks      | elapsed:    8.3s\n",
            "[Parallel(n_jobs=1)]: Done 199 tasks      | elapsed:   30.5s\n",
            "[Parallel(n_jobs=1)]: Done 199 tasks      | elapsed:  6.5min\n",
            "[Parallel(n_jobs=1)]: Done 199 tasks      | elapsed:  6.5min\n",
            "[Parallel(n_jobs=1)]: Done  49 tasks      | elapsed:    8.5s\n",
            "[Parallel(n_jobs=1)]: Done  49 tasks      | elapsed:    8.3s\n",
            "[Parallel(n_jobs=1)]: Done 199 tasks      | elapsed:   31.3s\n",
            "[Parallel(n_jobs=1)]: Done 199 tasks      | elapsed:   30.9s\n",
            "[Parallel(n_jobs=1)]: Done  49 tasks      | elapsed:  1.7min\n",
            "[Parallel(n_jobs=1)]: Done  49 tasks      | elapsed:  1.7min\n",
            "[Parallel(n_jobs=1)]: Done  49 tasks      | elapsed:  1.7min\n",
            "[Parallel(n_jobs=1)]: Done  49 tasks      | elapsed:  1.7min\n",
            "[Parallel(n_jobs=1)]: Done  49 tasks      | elapsed:  1.7min\n",
            "[Parallel(n_jobs=1)]: Done  49 tasks      | elapsed:  1.7min\n",
            "[Parallel(n_jobs=1)]: Done  49 tasks      | elapsed:  1.7min\n",
            "[Parallel(n_jobs=1)]: Done  49 tasks      | elapsed:    8.7s\n",
            "[Parallel(n_jobs=1)]: Done  49 tasks      | elapsed:    8.5s\n",
            "[Parallel(n_jobs=1)]: Done  49 tasks      | elapsed:    8.7s\n",
            "[Parallel(n_jobs=1)]: Done  49 tasks      | elapsed:    8.2s\n"
          ]
        }
      ],
      "source": [
        "# Initialize the RandomForestClassifier\n",
        "rf = RandomForestClassifier(random_state=42, verbose=1)\n",
        "\n",
        "# Set up the grid search with 5-fold cross-validation\n",
        "grid_search_rf = GridSearchCV(rf, param_grid, cv=5, scoring='accuracy', refit=True, n_jobs=-1)\n",
        "\n",
        "# Fit the grid search to the training data\n",
        "grid_search_rf.fit(X_train_scaled, y_train)\n",
        "\n",
        "# Get the best parameters and best score from the grid search\n",
        "best_rf_params = grid_search_rf.best_params_\n",
        "best_rf_score = grid_search_rf.best_score_\n",
        "\n",
        "print(f\"Best Parameters for Random Forest: {best_rf_params}\")\n",
        "print(f\"Best Cross-Validation Accuracy: {best_rf_score:.4f}\")"
      ]
    },
    {
      "cell_type": "code",
      "execution_count": null,
      "metadata": {},
      "outputs": [],
      "source": [
        "# Evaluate the best Random Forest model on the validation set\n",
        "best_rf_model = grid_search_rf.best_estimator_\n",
        "val_preds = best_rf_model.predict(X_val_scaled)\n",
        "val_accuracy = accuracy_score(y_val, val_preds)\n",
        "print(f\"Validation Accuracy for Random Forest: {val_accuracy:.4f}\")"
      ]
    },
    {
      "cell_type": "code",
      "execution_count": null,
      "metadata": {},
      "outputs": [],
      "source": [
        "# Now, evaluate the best Random Forest model on the test set\n",
        "test_preds = best_rf_model.predict(X_test_scaled)\n",
        "test_accuracy_rf = accuracy_score(y_test, test_preds)\n",
        "test_precision_rf = precision_score(y_test, test_preds)\n",
        "test_recall_rf = recall_score(y_test, test_preds)\n",
        "\n",
        "# Print results\n",
        "print(f\"Test Accuracy for Random Forest: {test_accuracy_rf:.4f}\")\n",
        "print(f\"Test Precision for Random Forest: {test_precision_rf:.4f}\")\n",
        "print(f\"Test Recall for Random Forest: {test_recall_rf:.4f}\")"
      ]
    },
    {
      "cell_type": "code",
      "execution_count": null,
      "metadata": {},
      "outputs": [],
      "source": []
    },
    {
      "cell_type": "code",
      "execution_count": null,
      "metadata": {},
      "outputs": [],
      "source": []
    }
  ],
  "metadata": {
    "accelerator": "GPU",
    "colab": {
      "gpuType": "T4",
      "provenance": []
    },
    "kernelspec": {
      "display_name": "Python 3",
      "name": "python3"
    },
    "language_info": {
      "codemirror_mode": {
        "name": "ipython",
        "version": 3
      },
      "file_extension": ".py",
      "mimetype": "text/x-python",
      "name": "python",
      "nbconvert_exporter": "python",
      "pygments_lexer": "ipython3",
      "version": "3.12.2"
    }
  },
  "nbformat": 4,
  "nbformat_minor": 0
}
